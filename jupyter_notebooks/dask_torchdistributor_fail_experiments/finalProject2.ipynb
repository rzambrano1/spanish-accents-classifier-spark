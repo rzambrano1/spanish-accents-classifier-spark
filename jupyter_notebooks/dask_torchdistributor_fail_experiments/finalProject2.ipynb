{
 "cells": [
  {
   "cell_type": "code",
   "execution_count": 2,
   "id": "2de3cfa7-26f3-444a-943c-56b9d7a0c509",
   "metadata": {},
   "outputs": [],
   "source": [
    "#####################\n",
    "# Basic Boilerplate #\n",
    "#####################\n",
    "\n",
    "import os  \n",
    "import sys\n",
    "import time\n",
    "\n",
    "# Type Hints (Optional)\n",
    "from typing import Optional, Tuple, Union, TypeVar, List\n",
    "#from torch import Tensor\n",
    "import numpy.typing as npt\n",
    "\n",
    "import random\n",
    "import math\n",
    "import numpy as np\n",
    "import pandas as pd\n",
    "import matplotlib.pyplot as plt\n",
    "\n",
    "########################\n",
    "# NLP and ML Libraries #\n",
    "########################\n",
    "\n",
    "from sklearn.datasets import make_classification\n",
    "from sklearn.svm import SVC\n",
    "from sklearn.model_selection import GridSearchCV\n",
    "from sklearn.model_selection import train_test_split\n",
    "\n",
    "from sklearn.metrics import accuracy_score\n",
    "from sklearn.metrics import precision_score\n",
    "from sklearn.metrics import recall_score\n",
    "\n",
    "import string\n",
    "import re\n",
    "import nltk\n",
    "from nltk.tokenize import word_tokenize, TreebankWordTokenizer, wordpunct_tokenize\n",
    "\n",
    "####################\n",
    "# Big Data Modules #\n",
    "####################\n",
    "\n",
    "import dask\n",
    "import dask.dataframe as dd\n",
    "import dask.array as da\n",
    "import dask.bag as db\n",
    "#from dask_ml.model_selection import train_test_split\n",
    "from dask.distributed import Client, progress\n",
    "\n",
    "import joblib\n",
    "\n",
    "#################\n",
    "# Audio Modules #\n",
    "#################\n",
    "\n",
    "import librosa\n",
    "from IPython import display\n",
    "from IPython.display import Audio"
   ]
  },
  {
   "cell_type": "code",
   "execution_count": 3,
   "id": "4822b6a1-8311-4c4b-a2a3-ed9beff49c5d",
   "metadata": {},
   "outputs": [
    {
     "name": "stdout",
     "output_type": "stream",
     "text": [
      "C:\\Users\\rzamb\\Documents\\UMD\\651_Big_Data\\finalProjectTest2\\.venv\\Scripts\\python.exe\n",
      "C:\\Users\\rzamb\\Documents\\UMD\\651_Big_Data\\finalProjectTest2\n"
     ]
    }
   ],
   "source": [
    "############################################################################\n",
    "# Verifying Correct Python Interpreter / Environment and Working Directory #\n",
    "############################################################################\n",
    "\n",
    "print(sys.executable)\n",
    "print(os.getcwd())\n",
    "# print(torch.cuda.is_available()) # Check GPU Availability"
   ]
  },
  {
   "cell_type": "markdown",
   "id": "6777b8f6-a905-4837-9f88-3a455bb5a5ec",
   "metadata": {},
   "source": [
    "# Loading Common Voice Sub Set with Spark"
   ]
  },
  {
   "cell_type": "code",
   "execution_count": 4,
   "id": "af9b6037-e72a-453a-adc0-2e6174838570",
   "metadata": {},
   "outputs": [],
   "source": [
    "# Common voice path \n",
    "PATH = \"C:/Users/rzamb/Documents/UMD/651_Big_Data/finalProjectTest2/cv-corpus-15.0-delta-2023-09-08-es/cv-corpus-15.0-delta-2023-09-08/es/other.tsv\""
   ]
  },
  {
   "cell_type": "code",
   "execution_count": 5,
   "id": "fc54a9c2-d5e2-4d4b-b574-ef3acb74832c",
   "metadata": {},
   "outputs": [],
   "source": [
    "schema={'client_id':str,\n",
    "       'path':str,\n",
    "       'sentence':str,\n",
    "       'up_votes':float,\t\n",
    "       'down_votes':float,\t\n",
    "       'age':str, \n",
    "       'gender':str,\t\n",
    "       'accents':str,\t\n",
    "       'variant':str,\t\n",
    "       'locale':str,\t\n",
    "       'segment':str\n",
    "}"
   ]
  },
  {
   "cell_type": "code",
   "execution_count": 6,
   "id": "ffca31a1-96df-4376-bef9-2191d36af740",
   "metadata": {},
   "outputs": [],
   "source": [
    "# Load Common Voice Sub Set (For Testing)\n",
    "common_voice_raw = dd.read_csv(PATH,sep='\\t',header=0,dtype=schema) "
   ]
  },
  {
   "cell_type": "code",
   "execution_count": 7,
   "id": "b1eccaf9-6ec2-4e74-b1d6-3308890b5c30",
   "metadata": {},
   "outputs": [
    {
     "data": {
      "text/html": [
       "<div>\n",
       "<style scoped>\n",
       "    .dataframe tbody tr th:only-of-type {\n",
       "        vertical-align: middle;\n",
       "    }\n",
       "\n",
       "    .dataframe tbody tr th {\n",
       "        vertical-align: top;\n",
       "    }\n",
       "\n",
       "    .dataframe thead th {\n",
       "        text-align: right;\n",
       "    }\n",
       "</style>\n",
       "<table border=\"1\" class=\"dataframe\">\n",
       "  <thead>\n",
       "    <tr style=\"text-align: right;\">\n",
       "      <th></th>\n",
       "      <th>client_id</th>\n",
       "      <th>path</th>\n",
       "      <th>sentence</th>\n",
       "      <th>up_votes</th>\n",
       "      <th>down_votes</th>\n",
       "      <th>age</th>\n",
       "      <th>gender</th>\n",
       "      <th>accents</th>\n",
       "      <th>variant</th>\n",
       "      <th>locale</th>\n",
       "      <th>segment</th>\n",
       "    </tr>\n",
       "  </thead>\n",
       "  <tbody>\n",
       "    <tr>\n",
       "      <th>0</th>\n",
       "      <td>9c33dde21d22851bbb6ae15a60c78e563f722658a87ace...</td>\n",
       "      <td>common_voice_es_38024600.mp3</td>\n",
       "      <td>La corona fue usada durante toda la coronación...</td>\n",
       "      <td>0.0</td>\n",
       "      <td>0.0</td>\n",
       "      <td>&lt;NA&gt;</td>\n",
       "      <td>&lt;NA&gt;</td>\n",
       "      <td>&lt;NA&gt;</td>\n",
       "      <td>&lt;NA&gt;</td>\n",
       "      <td>es</td>\n",
       "      <td>&lt;NA&gt;</td>\n",
       "    </tr>\n",
       "    <tr>\n",
       "      <th>1</th>\n",
       "      <td>9c33dde21d22851bbb6ae15a60c78e563f722658a87ace...</td>\n",
       "      <td>common_voice_es_38024601.mp3</td>\n",
       "      <td>Noruega clasificó a un jugador basado en el ra...</td>\n",
       "      <td>0.0</td>\n",
       "      <td>0.0</td>\n",
       "      <td>&lt;NA&gt;</td>\n",
       "      <td>&lt;NA&gt;</td>\n",
       "      <td>&lt;NA&gt;</td>\n",
       "      <td>&lt;NA&gt;</td>\n",
       "      <td>es</td>\n",
       "      <td>&lt;NA&gt;</td>\n",
       "    </tr>\n",
       "    <tr>\n",
       "      <th>2</th>\n",
       "      <td>9c33dde21d22851bbb6ae15a60c78e563f722658a87ace...</td>\n",
       "      <td>common_voice_es_38024602.mp3</td>\n",
       "      <td>La sede de condado es Morgan.</td>\n",
       "      <td>0.0</td>\n",
       "      <td>0.0</td>\n",
       "      <td>&lt;NA&gt;</td>\n",
       "      <td>&lt;NA&gt;</td>\n",
       "      <td>&lt;NA&gt;</td>\n",
       "      <td>&lt;NA&gt;</td>\n",
       "      <td>es</td>\n",
       "      <td>&lt;NA&gt;</td>\n",
       "    </tr>\n",
       "    <tr>\n",
       "      <th>3</th>\n",
       "      <td>9c33dde21d22851bbb6ae15a60c78e563f722658a87ace...</td>\n",
       "      <td>common_voice_es_38024603.mp3</td>\n",
       "      <td>Dispone de sala de espera, venta de billetes, ...</td>\n",
       "      <td>0.0</td>\n",
       "      <td>0.0</td>\n",
       "      <td>&lt;NA&gt;</td>\n",
       "      <td>&lt;NA&gt;</td>\n",
       "      <td>&lt;NA&gt;</td>\n",
       "      <td>&lt;NA&gt;</td>\n",
       "      <td>es</td>\n",
       "      <td>&lt;NA&gt;</td>\n",
       "    </tr>\n",
       "    <tr>\n",
       "      <th>4</th>\n",
       "      <td>9c33dde21d22851bbb6ae15a60c78e563f722658a87ace...</td>\n",
       "      <td>common_voice_es_38024604.mp3</td>\n",
       "      <td>Es recordado como un ejemplo de espíritu depor...</td>\n",
       "      <td>0.0</td>\n",
       "      <td>0.0</td>\n",
       "      <td>&lt;NA&gt;</td>\n",
       "      <td>&lt;NA&gt;</td>\n",
       "      <td>&lt;NA&gt;</td>\n",
       "      <td>&lt;NA&gt;</td>\n",
       "      <td>es</td>\n",
       "      <td>&lt;NA&gt;</td>\n",
       "    </tr>\n",
       "  </tbody>\n",
       "</table>\n",
       "</div>"
      ],
      "text/plain": [
       "                                           client_id  \\\n",
       "0  9c33dde21d22851bbb6ae15a60c78e563f722658a87ace...   \n",
       "1  9c33dde21d22851bbb6ae15a60c78e563f722658a87ace...   \n",
       "2  9c33dde21d22851bbb6ae15a60c78e563f722658a87ace...   \n",
       "3  9c33dde21d22851bbb6ae15a60c78e563f722658a87ace...   \n",
       "4  9c33dde21d22851bbb6ae15a60c78e563f722658a87ace...   \n",
       "\n",
       "                           path  \\\n",
       "0  common_voice_es_38024600.mp3   \n",
       "1  common_voice_es_38024601.mp3   \n",
       "2  common_voice_es_38024602.mp3   \n",
       "3  common_voice_es_38024603.mp3   \n",
       "4  common_voice_es_38024604.mp3   \n",
       "\n",
       "                                            sentence  up_votes  down_votes  \\\n",
       "0  La corona fue usada durante toda la coronación...       0.0         0.0   \n",
       "1  Noruega clasificó a un jugador basado en el ra...       0.0         0.0   \n",
       "2                      La sede de condado es Morgan.       0.0         0.0   \n",
       "3  Dispone de sala de espera, venta de billetes, ...       0.0         0.0   \n",
       "4  Es recordado como un ejemplo de espíritu depor...       0.0         0.0   \n",
       "\n",
       "    age gender accents variant locale segment  \n",
       "0  <NA>   <NA>    <NA>    <NA>     es    <NA>  \n",
       "1  <NA>   <NA>    <NA>    <NA>     es    <NA>  \n",
       "2  <NA>   <NA>    <NA>    <NA>     es    <NA>  \n",
       "3  <NA>   <NA>    <NA>    <NA>     es    <NA>  \n",
       "4  <NA>   <NA>    <NA>    <NA>     es    <NA>  "
      ]
     },
     "execution_count": 7,
     "metadata": {},
     "output_type": "execute_result"
    }
   ],
   "source": [
    "common_voice_raw.head(n=5)"
   ]
  },
  {
   "cell_type": "code",
   "execution_count": 8,
   "id": "54353ddc-9b22-44ab-8ac5-515930c48cb7",
   "metadata": {},
   "outputs": [
    {
     "data": {
      "text/plain": [
       "8635"
      ]
     },
     "execution_count": 8,
     "metadata": {},
     "output_type": "execute_result"
    }
   ],
   "source": [
    "# It seems that variant has no information in this subset\n",
    "len(common_voice_raw.loc[common_voice_raw[\"variant\"].isna()])\n",
    "#common_voice_raw.dropna(subset=['variant']).head(15)"
   ]
  },
  {
   "cell_type": "code",
   "execution_count": 9,
   "id": "38a8f2ae-f91e-4010-9d72-37041069b43e",
   "metadata": {},
   "outputs": [],
   "source": [
    "# Dropping unnecesary columns\n",
    "common_voice = common_voice_raw.drop(['up_votes','down_votes','age','gender','variant','locale','segment'], axis=1)"
   ]
  },
  {
   "cell_type": "code",
   "execution_count": 10,
   "id": "87b42c08-0594-4549-96af-6c719b9a1d6a",
   "metadata": {},
   "outputs": [],
   "source": [
    "# Dropping rows in column = 'accents' with <NA> values\n",
    "common_voice_base = common_voice.dropna(subset=['accents'])"
   ]
  },
  {
   "cell_type": "code",
   "execution_count": 11,
   "id": "99d5596b-6746-415e-9a13-510d3c532c9e",
   "metadata": {},
   "outputs": [
    {
     "name": "stdout",
     "output_type": "stream",
     "text": [
      "7114\n"
     ]
    }
   ],
   "source": [
    "# Check the number of complete rows available in this dataset\n",
    "print(len(common_voice_base))"
   ]
  },
  {
   "cell_type": "code",
   "execution_count": 12,
   "id": "cdd832ec-2815-4491-acdf-b553967508e7",
   "metadata": {},
   "outputs": [],
   "source": [
    "# Next step is generating a column with the full path to the audio files\n",
    "AUDIO_FILES_PATH = \"C:/Users/rzamb/Documents/UMD/651_Big_Data/finalProjectTest2/cv-corpus-15.0-delta-2023-09-08-es/cv-corpus-15.0-delta-2023-09-08/es/clips/\""
   ]
  },
  {
   "cell_type": "code",
   "execution_count": 13,
   "id": "dce24654-739e-4dae-b911-0f88b8ad31dd",
   "metadata": {},
   "outputs": [],
   "source": [
    "common_voice_base['full_path'] = AUDIO_FILES_PATH+common_voice_base['path']"
   ]
  },
  {
   "cell_type": "code",
   "execution_count": 14,
   "id": "c3d1fefa-1a80-41f7-b304-f1dd7d597ede",
   "metadata": {},
   "outputs": [],
   "source": [
    "path_test = common_voice_base.iloc[:,4].head(1)"
   ]
  },
  {
   "cell_type": "code",
   "execution_count": 15,
   "id": "a86602f4-26e6-42cd-9f28-3fe77611356d",
   "metadata": {},
   "outputs": [
    {
     "data": {
      "text/plain": [
       "<ArrowStringArray>\n",
       "['C:/Users/rzamb/Documents/UMD/651_Big_Data/finalProjectTest2/cv-corpus-15.0-delta-2023-09-08-es/cv-corpus-15.0-delta-2023-09-08/es/clips/common_voice_es_38028025.mp3']\n",
       "Length: 1, dtype: string"
      ]
     },
     "execution_count": 15,
     "metadata": {},
     "output_type": "execute_result"
    }
   ],
   "source": [
    "# Making sure path to audio files are generated in a correct format\n",
    "path_test.values"
   ]
  },
  {
   "cell_type": "code",
   "execution_count": 16,
   "id": "1a06f9c5-4db4-49a1-9d1b-5792ff34b552",
   "metadata": {},
   "outputs": [],
   "source": [
    "# To simplyfy the custom function implememntation a wrapper function was created. It discards the sample rate\n",
    "# output from librosa and returns only the waveform. This avoids populating two columns in one operation using zip(*args)\n",
    "def librosa_load_wrap(path:str)->np.ndarray:\n",
    "    \"\"\"Load an audio file as a floating point time series.\n",
    "\n",
    "    Audio will be automatically resampled to the given rate\n",
    "    (default ``sr=22050``).\n",
    "\n",
    "    To preserve the native sampling rate of the file, use ``sr=None``.\n",
    "\n",
    "    Parameters\n",
    "    ----------\n",
    "    path : string, int, pathlib.Path, soundfile.SoundFile, audioread object, or file-like object\n",
    "        path to the input file.\n",
    "\n",
    "        Any codec supported by `soundfile` or `audioread` will work.\n",
    "\n",
    "        Any string file paths, or any object implementing Python's\n",
    "        file interface (e.g. `pathlib.Path`) are supported as `path`.\n",
    "\n",
    "        If the codec is supported by `soundfile`, then `path` can also be\n",
    "        an open file descriptor (int) or an existing `soundfile.SoundFile` object.\n",
    "\n",
    "        Pre-constructed audioread decoders are also supported here, see the example\n",
    "        below.  This can be used, for example, to force a specific decoder rather\n",
    "        than relying upon audioread to select one for you.\n",
    "        \n",
    "    Returns\n",
    "    -------\n",
    "    y : np.ndarray [shape=(n,) or (..., n)]\n",
    "        audio time series. Multi-channel is supported.\n",
    "\n",
    "    Examples\n",
    "    --------\n",
    "    >>> # Load an ogg vorbis file\n",
    "    >>> filename = librosa.ex('trumpet')\n",
    "    >>> y = librosa.load(filename)\n",
    "    >>> y\n",
    "    array([-1.407e-03, -4.461e-04, ..., -3.042e-05,  1.277e-05],\n",
    "          dtype=float32)    \n",
    "    \"\"\"\n",
    "    \n",
    "    y,_ = librosa.load(path,duration=20) # Discards sample rate wich defaults to 22050\n",
    "                                         # Limiting the utterances' audio to 20 seconds which is the instructor's recommended length \n",
    "    return y"
   ]
  },
  {
   "cell_type": "code",
   "execution_count": 17,
   "id": "c6a56fcf-ac92-4766-9c4d-372273e96fad",
   "metadata": {},
   "outputs": [
    {
     "name": "stderr",
     "output_type": "stream",
     "text": [
      "C:\\Users\\rzamb\\Documents\\UMD\\651_Big_Data\\finalProjectTest2\\.venv\\Lib\\site-packages\\dask\\dataframe\\core.py:3828: UserWarning: Dask currently has limited support for converting pandas extension dtypes to arrays. Converting string to object dtype.\n",
      "  warnings.warn(\n"
     ]
    }
   ],
   "source": [
    "# Because the dataframe seems to not support array-like structures the column with the full path is extractes as a dask array. \n",
    "# Loading the waveform, generating the mel spectrogram as wel as the MFCC features will be generated/extracted outside the dataframe \n",
    "# using dask arrrayswhenever is possible\n",
    "full_path = common_voice_base['full_path'].to_dask_array()"
   ]
  },
  {
   "cell_type": "code",
   "execution_count": 18,
   "id": "b93f55e9-2cd4-4dec-b6b6-5e61885ae343",
   "metadata": {},
   "outputs": [
    {
     "data": {
      "text/plain": [
       "(7114,)"
      ]
     },
     "execution_count": 18,
     "metadata": {},
     "output_type": "execute_result"
    }
   ],
   "source": [
    "full_path.compute().shape"
   ]
  },
  {
   "cell_type": "code",
   "execution_count": 19,
   "id": "891d0456-9c96-4698-b21c-7d3bae94aa84",
   "metadata": {},
   "outputs": [
    {
     "name": "stdout",
     "output_type": "stream",
     "text": [
      "63.88456606864929\n"
     ]
    }
   ],
   "source": [
    "# The loading of the waveform will be timed to estimate processing time of the full dataset. Worst case scenario is about 3hrs \n",
    "# based on the timem obtained\n",
    "start_time = time.time()\n",
    "waveform = tuple(librosa_load_wrap(pth) for pth in full_path.compute())\n",
    "print(time.time()-start_time)"
   ]
  },
  {
   "cell_type": "code",
   "execution_count": 20,
   "id": "263a47a4-2b67-424f-a199-138af37181bf",
   "metadata": {},
   "outputs": [
    {
     "name": "stdout",
     "output_type": "stream",
     "text": [
      "7114\n",
      "(105576,)\n",
      "(71442,)\n",
      "(113514,)\n",
      "<class 'numpy.ndarray'>\n"
     ]
    }
   ],
   "source": [
    "# Verifying the generated mel spectrogram looks correct. Notice each m\n",
    "print(len(waveform))\n",
    "print(waveform[0].shape)\n",
    "print(waveform[1].shape)\n",
    "print(waveform[2].shape)\n",
    "print(type(waveform[0]))"
   ]
  },
  {
   "cell_type": "code",
   "execution_count": 21,
   "id": "1a8944e8-41d6-4cf3-a1bf-4b949dce70b6",
   "metadata": {},
   "outputs": [],
   "source": [
    "def get_mel_spectrogram(waveform:np.ndarray)->np.ndarray:\n",
    "    \"\"\"Compute a mel-scaled spectrogram.\n",
    "\n",
    "    If a spectrogram input ``S`` is provided, then it is mapped directly onto\n",
    "    the mel basis by ``mel_f.dot(S)``.\n",
    "\n",
    "    If a time-series input ``y, sr`` is provided, then its magnitude spectrogram\n",
    "    ``S`` is first computed, and then mapped onto the mel scale by\n",
    "    ``mel_f.dot(S**power)``.\n",
    "\n",
    "    By default, ``power=2`` operates on a power spectrum.\n",
    "\n",
    "    Parameters\n",
    "    ----------\n",
    "    y : np.ndarray [shape=(..., n)] or None\n",
    "        audio time-series. Multi-channel is supported.\n",
    "\n",
    "    Returns\n",
    "    -------\n",
    "    S : np.ndarray [shape=(..., n_mels, t)]\n",
    "        Mel spectrogram\n",
    "    \"\"\"\n",
    "\n",
    "    # Hard Coded Variables\n",
    "    win_length = None\n",
    "    n_fft = 1024\n",
    "    win_length = None\n",
    "    hop_length = 512\n",
    "    n_mels = 128 # Originally 256\n",
    "    sample_rate = 22050\n",
    "    \n",
    "    melSpec = librosa.feature.melspectrogram(\n",
    "                                    y=waveform,\n",
    "                                    sr=sample_rate,\n",
    "                                    n_fft=n_fft,\n",
    "                                    hop_length=hop_length,\n",
    "                                    win_length=win_length,\n",
    "                                    center=True, \n",
    "                                    pad_mode=\"reflect\",\n",
    "                                    power=2.0, \n",
    "                                    n_mels=n_mels, \n",
    "                                    norm=\"slaney\", \n",
    "                                    htk=True)\n",
    "\n",
    "    return melSpec"
   ]
  },
  {
   "cell_type": "code",
   "execution_count": 22,
   "id": "48bdb293-8b59-43bf-8558-9938b6e52834",
   "metadata": {},
   "outputs": [
    {
     "name": "stdout",
     "output_type": "stream",
     "text": [
      "63.925371170043945\n"
     ]
    }
   ],
   "source": [
    "start_time = time.time()\n",
    "mel_spec = tuple(get_mel_spectrogram(wav) for wav in waveform)\n",
    "print(time.time()-start_time)"
   ]
  },
  {
   "cell_type": "code",
   "execution_count": 23,
   "id": "7b6092e6-e322-40c5-9c37-756e035bb281",
   "metadata": {},
   "outputs": [],
   "source": [
    "def get_mfcc_features(melSpectrogram:np.ndarray)->np.ndarray:\n",
    "    \"\"\"\n",
    "    Mel-frequency cepstral coefficients (MFCCs)\n",
    "\n",
    "    .. warning:: If multi-channel audio input ``y`` is provided, the MFCC\n",
    "        calculation will depend on the peak loudness (in decibels) across\n",
    "        all channels.  The result may differ from independent MFCC calculation\n",
    "        of each channel.\n",
    "\n",
    "    Parameters\n",
    "    ----------\n",
    "    y : np.ndarray [shape=(..., n,)] or None\n",
    "        audio time series. Multi-channel is supported..\n",
    "\n",
    "    Returns\n",
    "    -------\n",
    "    M : np.ndarray [shape=(..., n_mfcc, t)]\n",
    "        MFCC sequence\n",
    "\n",
    "    \"\"\"\n",
    "    \n",
    "    # Hard Coded Variables\n",
    "    n_mfcc = 128 # originally 256\n",
    "    \n",
    "    mfcc = librosa.feature.mfcc(S=librosa.core.spectrum.power_to_db(melSpectrogram), n_mfcc=n_mfcc, dct_type=2, norm=\"ortho\")\n",
    "    \n",
    "    return mfcc"
   ]
  },
  {
   "cell_type": "code",
   "execution_count": 24,
   "id": "f9bd2c38-fa09-47b7-a9de-cdd2fc9e9f52",
   "metadata": {},
   "outputs": [
    {
     "name": "stdout",
     "output_type": "stream",
     "text": [
      "6.000720739364624\n"
     ]
    }
   ],
   "source": [
    "start_time = time.time()\n",
    "mfcc = tuple(get_mfcc_features(mel) for mel in mel_spec)\n",
    "print(time.time()-start_time)"
   ]
  },
  {
   "cell_type": "code",
   "execution_count": 25,
   "id": "456bde2a-e2f2-47cf-a214-814e59c5378d",
   "metadata": {},
   "outputs": [
    {
     "name": "stdout",
     "output_type": "stream",
     "text": [
      "7114\n",
      "(128, 207)\n",
      "(128, 140)\n",
      "(128, 222)\n",
      "<class 'numpy.ndarray'>\n"
     ]
    }
   ],
   "source": [
    "print(len(mfcc))\n",
    "print(mfcc[0].shape)\n",
    "print(mfcc[1].shape)\n",
    "print(mfcc[2].shape)\n",
    "print(type(mfcc[0]))"
   ]
  },
  {
   "cell_type": "code",
   "execution_count": 26,
   "id": "4ca5756e-b2f7-4745-af36-a86ef3ab3a1b",
   "metadata": {},
   "outputs": [
    {
     "data": {
      "text/html": [
       "<table>\n",
       "    <tr>\n",
       "        <td>\n",
       "            <table style=\"border-collapse: collapse;\">\n",
       "                <thead>\n",
       "                    <tr>\n",
       "                        <td> </td>\n",
       "                        <th> Array </th>\n",
       "                        <th> Chunk </th>\n",
       "                    </tr>\n",
       "                </thead>\n",
       "                <tbody>\n",
       "                    \n",
       "                    <tr>\n",
       "                        <th> Bytes </th>\n",
       "                        <td> 103.50 kiB </td>\n",
       "                        <td> 103.50 kiB </td>\n",
       "                    </tr>\n",
       "                    \n",
       "                    <tr>\n",
       "                        <th> Shape </th>\n",
       "                        <td> (128, 207) </td>\n",
       "                        <td> (128, 207) </td>\n",
       "                    </tr>\n",
       "                    <tr>\n",
       "                        <th> Dask graph </th>\n",
       "                        <td colspan=\"2\"> 1 chunks in 1 graph layer </td>\n",
       "                    </tr>\n",
       "                    <tr>\n",
       "                        <th> Data type </th>\n",
       "                        <td colspan=\"2\"> float32 numpy.ndarray </td>\n",
       "                    </tr>\n",
       "                </tbody>\n",
       "            </table>\n",
       "        </td>\n",
       "        <td>\n",
       "        <svg width=\"170\" height=\"124\" style=\"stroke:rgb(0,0,0);stroke-width:1\" >\n",
       "\n",
       "  <!-- Horizontal lines -->\n",
       "  <line x1=\"0\" y1=\"0\" x2=\"120\" y2=\"0\" style=\"stroke-width:2\" />\n",
       "  <line x1=\"0\" y1=\"74\" x2=\"120\" y2=\"74\" style=\"stroke-width:2\" />\n",
       "\n",
       "  <!-- Vertical lines -->\n",
       "  <line x1=\"0\" y1=\"0\" x2=\"0\" y2=\"74\" style=\"stroke-width:2\" />\n",
       "  <line x1=\"120\" y1=\"0\" x2=\"120\" y2=\"74\" style=\"stroke-width:2\" />\n",
       "\n",
       "  <!-- Colored Rectangle -->\n",
       "  <polygon points=\"0.0,0.0 120.0,0.0 120.0,74.20289855072464 0.0,74.20289855072464\" style=\"fill:#ECB172A0;stroke-width:0\"/>\n",
       "\n",
       "  <!-- Text -->\n",
       "  <text x=\"60.000000\" y=\"94.202899\" font-size=\"1.0rem\" font-weight=\"100\" text-anchor=\"middle\" >207</text>\n",
       "  <text x=\"140.000000\" y=\"37.101449\" font-size=\"1.0rem\" font-weight=\"100\" text-anchor=\"middle\" transform=\"rotate(-90,140.000000,37.101449)\">128</text>\n",
       "</svg>\n",
       "        </td>\n",
       "    </tr>\n",
       "</table>"
      ],
      "text/plain": [
       "dask.array<array, shape=(128, 207), dtype=float32, chunksize=(128, 207), chunktype=numpy.ndarray>"
      ]
     },
     "execution_count": 26,
     "metadata": {},
     "output_type": "execute_result"
    }
   ],
   "source": [
    "da.asarray(mfcc[0])"
   ]
  },
  {
   "cell_type": "code",
   "execution_count": 27,
   "id": "66d7ad48-dd49-4caa-86f9-ccc3e9a1ffda",
   "metadata": {},
   "outputs": [
    {
     "data": {
      "text/html": [
       "<table>\n",
       "    <tr>\n",
       "        <td>\n",
       "            <table style=\"border-collapse: collapse;\">\n",
       "                <thead>\n",
       "                    <tr>\n",
       "                        <td> </td>\n",
       "                        <th> Array </th>\n",
       "                        <th> Chunk </th>\n",
       "                    </tr>\n",
       "                </thead>\n",
       "                <tbody>\n",
       "                    \n",
       "                    <tr>\n",
       "                        <th> Bytes </th>\n",
       "                        <td> 70.00 kiB </td>\n",
       "                        <td> 70.00 kiB </td>\n",
       "                    </tr>\n",
       "                    \n",
       "                    <tr>\n",
       "                        <th> Shape </th>\n",
       "                        <td> (128, 140) </td>\n",
       "                        <td> (128, 140) </td>\n",
       "                    </tr>\n",
       "                    <tr>\n",
       "                        <th> Dask graph </th>\n",
       "                        <td colspan=\"2\"> 1 chunks in 1 graph layer </td>\n",
       "                    </tr>\n",
       "                    <tr>\n",
       "                        <th> Data type </th>\n",
       "                        <td colspan=\"2\"> float32 numpy.ndarray </td>\n",
       "                    </tr>\n",
       "                </tbody>\n",
       "            </table>\n",
       "        </td>\n",
       "        <td>\n",
       "        <svg width=\"170\" height=\"159\" style=\"stroke:rgb(0,0,0);stroke-width:1\" >\n",
       "\n",
       "  <!-- Horizontal lines -->\n",
       "  <line x1=\"0\" y1=\"0\" x2=\"120\" y2=\"0\" style=\"stroke-width:2\" />\n",
       "  <line x1=\"0\" y1=\"109\" x2=\"120\" y2=\"109\" style=\"stroke-width:2\" />\n",
       "\n",
       "  <!-- Vertical lines -->\n",
       "  <line x1=\"0\" y1=\"0\" x2=\"0\" y2=\"109\" style=\"stroke-width:2\" />\n",
       "  <line x1=\"120\" y1=\"0\" x2=\"120\" y2=\"109\" style=\"stroke-width:2\" />\n",
       "\n",
       "  <!-- Colored Rectangle -->\n",
       "  <polygon points=\"0.0,0.0 120.0,0.0 120.0,109.71428571428571 0.0,109.71428571428571\" style=\"fill:#ECB172A0;stroke-width:0\"/>\n",
       "\n",
       "  <!-- Text -->\n",
       "  <text x=\"60.000000\" y=\"129.714286\" font-size=\"1.0rem\" font-weight=\"100\" text-anchor=\"middle\" >140</text>\n",
       "  <text x=\"140.000000\" y=\"54.857143\" font-size=\"1.0rem\" font-weight=\"100\" text-anchor=\"middle\" transform=\"rotate(-90,140.000000,54.857143)\">128</text>\n",
       "</svg>\n",
       "        </td>\n",
       "    </tr>\n",
       "</table>"
      ],
      "text/plain": [
       "dask.array<array, shape=(128, 140), dtype=float32, chunksize=(128, 140), chunktype=numpy.ndarray>"
      ]
     },
     "execution_count": 27,
     "metadata": {},
     "output_type": "execute_result"
    }
   ],
   "source": [
    "da.asarray(mfcc[1])"
   ]
  },
  {
   "cell_type": "code",
   "execution_count": 28,
   "id": "c8b0411e-70c6-490a-b326-c7284b9f510b",
   "metadata": {},
   "outputs": [
    {
     "name": "stdout",
     "output_type": "stream",
     "text": [
      "0.002997875213623047\n"
     ]
    }
   ],
   "source": [
    "# The next step is to get the dimension of the varying axis in the mfcc feature tuple\n",
    "start_time = time.time()\n",
    "dim_mfcc = tuple(item.shape[1] for item in mfcc)\n",
    "print(time.time()-start_time)"
   ]
  },
  {
   "cell_type": "code",
   "execution_count": 29,
   "id": "d2499c8f-5ce1-4b2e-be8a-33e6fcced53a",
   "metadata": {},
   "outputs": [
    {
     "data": {
      "text/plain": [
       "(207, 140, 222, 264, 292)"
      ]
     },
     "execution_count": 29,
     "metadata": {},
     "output_type": "execute_result"
    }
   ],
   "source": [
    "dim_mfcc[:5]"
   ]
  },
  {
   "cell_type": "code",
   "execution_count": 30,
   "id": "1fe216f3-57a9-4b39-96a5-85f6a6614f82",
   "metadata": {},
   "outputs": [
    {
     "name": "stdout",
     "output_type": "stream",
     "text": [
      "452\n",
      "73\n",
      "220.82794489738544\n"
     ]
    }
   ],
   "source": [
    "print(max(dim_mfcc))\n",
    "print(min(dim_mfcc))\n",
    "print(sum(dim_mfcc)/len(dim_mfcc))"
   ]
  },
  {
   "cell_type": "code",
   "execution_count": 31,
   "id": "e32a178b-7b57-4add-9fd3-5b4cdf195975",
   "metadata": {},
   "outputs": [
    {
     "data": {
      "text/plain": [
       "(array([0.000e+00, 0.000e+00, 1.000e+00, 4.500e+01, 2.110e+02, 5.360e+02,\n",
       "        8.150e+02, 1.085e+03, 1.189e+03, 1.165e+03, 8.300e+02, 5.470e+02,\n",
       "        3.400e+02, 1.700e+02, 8.500e+01, 4.600e+01, 2.900e+01, 1.800e+01,\n",
       "        2.000e+00]),\n",
       " array([  0.,  25.,  50.,  75., 100., 125., 150., 175., 200., 225., 250.,\n",
       "        275., 300., 325., 350., 375., 400., 425., 450., 475.]),\n",
       " <BarContainer object of 19 artists>)"
      ]
     },
     "execution_count": 31,
     "metadata": {},
     "output_type": "execute_result"
    },
    {
     "data": {
      "image/png": "[encoded data removed]",
      "text/plain": [
       "<Figure size 640x480 with 1 Axes>"
      ]
     },
     "metadata": {},
     "output_type": "display_data"
    }
   ],
   "source": [
    "plt.hist(np.array(dim_mfcc), bins=[0,25,50,75,100,125,150,175,200,225,250,275,300,325,350,375,400,425,450,475])"
   ]
  },
  {
   "cell_type": "markdown",
   "id": "179f5224-f994-44f9-be89-be60c6f08d2a",
   "metadata": {},
   "source": [
    "Even after limiting the length of the utterings to 20 secods we still get the same distributions. This means that I will not cut tensors only pad the shorter ones"
   ]
  },
  {
   "cell_type": "code",
   "execution_count": 32,
   "id": "03d39730-b5b6-4f3a-a092-355881d7f395",
   "metadata": {},
   "outputs": [
    {
     "data": {
      "text/plain": [
       "array([[-7.2699188e+02, -7.2699188e+02, -6.9769305e+02, ...,\n",
       "        -7.0221991e+02, -7.0949847e+02, -7.2699188e+02],\n",
       "       [ 0.0000000e+00,  0.0000000e+00,  3.6885376e+01, ...,\n",
       "         2.9419117e+01,  2.2602362e+01,  0.0000000e+00],\n",
       "       [ 0.0000000e+00,  0.0000000e+00,  2.5256424e+01, ...,\n",
       "         1.7117237e+01,  1.7699703e+01,  0.0000000e+00],\n",
       "       ...,\n",
       "       [ 0.0000000e+00,  0.0000000e+00,  9.8795223e-01, ...,\n",
       "        -3.5609484e-02, -1.4766598e-01,  0.0000000e+00],\n",
       "       [ 0.0000000e+00,  0.0000000e+00,  3.0526066e-01, ...,\n",
       "         9.7556400e-01, -2.3318768e-01,  0.0000000e+00],\n",
       "       [ 0.0000000e+00,  0.0000000e+00, -9.1531754e-02, ...,\n",
       "         9.8066998e-01, -1.3835907e-01,  0.0000000e+00]], dtype=float32)"
      ]
     },
     "execution_count": 32,
     "metadata": {},
     "output_type": "execute_result"
    }
   ],
   "source": [
    "mfcc[1]"
   ]
  },
  {
   "cell_type": "code",
   "execution_count": 33,
   "id": "5547bd82-23a0-418e-9601-5a8ff116568f",
   "metadata": {},
   "outputs": [],
   "source": [
    "dim_diff = 452 - np.array(dim_mfcc)"
   ]
  },
  {
   "cell_type": "code",
   "execution_count": 34,
   "id": "0bb7252b-d4c5-454d-85df-9f314e87611b",
   "metadata": {},
   "outputs": [
    {
     "data": {
      "text/plain": [
       "array([245, 312, 230, 188, 160])"
      ]
     },
     "execution_count": 34,
     "metadata": {},
     "output_type": "execute_result"
    }
   ],
   "source": [
    "dim_diff[:5]"
   ]
  },
  {
   "cell_type": "code",
   "execution_count": 35,
   "id": "d5828991-c0e5-435e-bbf9-cef083d1c955",
   "metadata": {},
   "outputs": [],
   "source": [
    "# npad is a tuple of (n_before, n_after) for each dimension\n",
    "npad_vec = tuple(((0, 0), (0, pad)) for pad in dim_diff)"
   ]
  },
  {
   "cell_type": "code",
   "execution_count": 36,
   "id": "6dcf932d-8439-4435-ba87-ab829b3baf01",
   "metadata": {},
   "outputs": [
    {
     "data": {
      "text/plain": [
       "(((0, 0), (0, 245)),\n",
       " ((0, 0), (0, 312)),\n",
       " ((0, 0), (0, 230)),\n",
       " ((0, 0), (0, 188)),\n",
       " ((0, 0), (0, 160)))"
      ]
     },
     "execution_count": 36,
     "metadata": {},
     "output_type": "execute_result"
    }
   ],
   "source": [
    "npad_vec[:5]"
   ]
  },
  {
   "cell_type": "code",
   "execution_count": 37,
   "id": "05280bb8-4613-4602-a660-bd2c38eea54a",
   "metadata": {},
   "outputs": [
    {
     "name": "stdout",
     "output_type": "stream",
     "text": [
      "2.295114517211914\n"
     ]
    }
   ],
   "source": [
    "# Getting padded mfcc fature tensors\n",
    "start_time = time.time()\n",
    "padded_mfcc = tuple(np.pad(arr, pad_width=npad, mode='constant', constant_values=0) for arr,npad in zip(mfcc,npad_vec))\n",
    "print(time.time()-start_time)"
   ]
  },
  {
   "cell_type": "code",
   "execution_count": 38,
   "id": "644fa5fd-6e14-4bf1-8c9a-243553d4004e",
   "metadata": {},
   "outputs": [
    {
     "name": "stdout",
     "output_type": "stream",
     "text": [
      "0.0010027885437011719\n"
     ]
    }
   ],
   "source": [
    "start_time = time.time()\n",
    "dim_padded_mfcc = tuple(item.shape[1] for item in padded_mfcc)\n",
    "print(time.time()-start_time)"
   ]
  },
  {
   "cell_type": "code",
   "execution_count": 39,
   "id": "228b993b-db73-4db7-b46d-a6f82314e108",
   "metadata": {},
   "outputs": [
    {
     "data": {
      "text/plain": [
       "(array([   0.,    0.,    0.,    0.,    0.,    0.,    0.,    0.,    0.,\n",
       "           0.,    0.,    0.,    0.,    0.,    0.,    0.,    0.,    0.,\n",
       "        7114.]),\n",
       " array([  0.,  25.,  50.,  75., 100., 125., 150., 175., 200., 225., 250.,\n",
       "        275., 300., 325., 350., 375., 400., 425., 450., 475.]),\n",
       " <BarContainer object of 19 artists>)"
      ]
     },
     "execution_count": 39,
     "metadata": {},
     "output_type": "execute_result"
    },
    {
     "data": {
      "image/png": "[encoded data removed]",
      "text/plain": [
       "<Figure size 640x480 with 1 Axes>"
      ]
     },
     "metadata": {},
     "output_type": "display_data"
    }
   ],
   "source": [
    "plt.hist(np.array(dim_padded_mfcc), bins=[0,25,50,75,100,125,150,175,200,225,250,275,300,325,350,375,400,425,450,475])"
   ]
  },
  {
   "cell_type": "code",
   "execution_count": 40,
   "id": "fe9eafc3-fde8-4628-9885-e0b65a1d2023",
   "metadata": {},
   "outputs": [
    {
     "name": "stdout",
     "output_type": "stream",
     "text": [
      "(128, 452)\n",
      "(128, 452)\n",
      "(128, 452)\n"
     ]
    }
   ],
   "source": [
    "print(padded_mfcc[0].shape)\n",
    "print(padded_mfcc[1].shape)\n",
    "print(padded_mfcc[2].shape)"
   ]
  },
  {
   "cell_type": "code",
   "execution_count": 41,
   "id": "0960f54b-1aaa-42c7-a7c5-008b92bbec96",
   "metadata": {},
   "outputs": [
    {
     "data": {
      "text/plain": [
       "array([[-7.2699188e+02, -7.2699188e+02, -6.9769305e+02, ...,\n",
       "        -7.0221991e+02, -7.0949847e+02, -7.2699188e+02],\n",
       "       [ 0.0000000e+00,  0.0000000e+00,  3.6885376e+01, ...,\n",
       "         2.9419117e+01,  2.2602362e+01,  0.0000000e+00],\n",
       "       [ 0.0000000e+00,  0.0000000e+00,  2.5256424e+01, ...,\n",
       "         1.7117237e+01,  1.7699703e+01,  0.0000000e+00],\n",
       "       ...,\n",
       "       [ 0.0000000e+00,  0.0000000e+00,  9.8795223e-01, ...,\n",
       "        -3.5609484e-02, -1.4766598e-01,  0.0000000e+00],\n",
       "       [ 0.0000000e+00,  0.0000000e+00,  3.0526066e-01, ...,\n",
       "         9.7556400e-01, -2.3318768e-01,  0.0000000e+00],\n",
       "       [ 0.0000000e+00,  0.0000000e+00, -9.1531754e-02, ...,\n",
       "         9.8066998e-01, -1.3835907e-01,  0.0000000e+00]], dtype=float32)"
      ]
     },
     "execution_count": 41,
     "metadata": {},
     "output_type": "execute_result"
    }
   ],
   "source": [
    "mfcc[1]"
   ]
  },
  {
   "cell_type": "code",
   "execution_count": 42,
   "id": "63146735-1c6a-4422-971f-d91959c7ab1d",
   "metadata": {},
   "outputs": [
    {
     "data": {
      "text/plain": [
       "array([[-7.2699188e+02, -7.2699188e+02, -6.9769305e+02, ...,\n",
       "         0.0000000e+00,  0.0000000e+00,  0.0000000e+00],\n",
       "       [ 0.0000000e+00,  0.0000000e+00,  3.6885376e+01, ...,\n",
       "         0.0000000e+00,  0.0000000e+00,  0.0000000e+00],\n",
       "       [ 0.0000000e+00,  0.0000000e+00,  2.5256424e+01, ...,\n",
       "         0.0000000e+00,  0.0000000e+00,  0.0000000e+00],\n",
       "       ...,\n",
       "       [ 0.0000000e+00,  0.0000000e+00,  9.8795223e-01, ...,\n",
       "         0.0000000e+00,  0.0000000e+00,  0.0000000e+00],\n",
       "       [ 0.0000000e+00,  0.0000000e+00,  3.0526066e-01, ...,\n",
       "         0.0000000e+00,  0.0000000e+00,  0.0000000e+00],\n",
       "       [ 0.0000000e+00,  0.0000000e+00, -9.1531754e-02, ...,\n",
       "         0.0000000e+00,  0.0000000e+00,  0.0000000e+00]], dtype=float32)"
      ]
     },
     "execution_count": 42,
     "metadata": {},
     "output_type": "execute_result"
    }
   ],
   "source": [
    "padded_mfcc[1]"
   ]
  },
  {
   "cell_type": "code",
   "execution_count": 43,
   "id": "ffb6164c-e223-469b-abeb-c3475e13edab",
   "metadata": {},
   "outputs": [
    {
     "data": {
      "text/html": [
       "<table>\n",
       "    <tr>\n",
       "        <td>\n",
       "            <table style=\"border-collapse: collapse;\">\n",
       "                <thead>\n",
       "                    <tr>\n",
       "                        <td> </td>\n",
       "                        <th> Array </th>\n",
       "                        <th> Chunk </th>\n",
       "                    </tr>\n",
       "                </thead>\n",
       "                <tbody>\n",
       "                    \n",
       "                    <tr>\n",
       "                        <th> Bytes </th>\n",
       "                        <td> 1.53 GiB </td>\n",
       "                        <td> 127.79 MiB </td>\n",
       "                    </tr>\n",
       "                    \n",
       "                    <tr>\n",
       "                        <th> Shape </th>\n",
       "                        <td> (7114, 128, 452) </td>\n",
       "                        <td> (579, 128, 452) </td>\n",
       "                    </tr>\n",
       "                    <tr>\n",
       "                        <th> Dask graph </th>\n",
       "                        <td colspan=\"2\"> 13 chunks in 1 graph layer </td>\n",
       "                    </tr>\n",
       "                    <tr>\n",
       "                        <th> Data type </th>\n",
       "                        <td colspan=\"2\"> float32 numpy.ndarray </td>\n",
       "                    </tr>\n",
       "                </tbody>\n",
       "            </table>\n",
       "        </td>\n",
       "        <td>\n",
       "        <svg width=\"166\" height=\"149\" style=\"stroke:rgb(0,0,0);stroke-width:1\" >\n",
       "\n",
       "  <!-- Horizontal lines -->\n",
       "  <line x1=\"10\" y1=\"0\" x2=\"80\" y2=\"70\" style=\"stroke-width:2\" />\n",
       "  <line x1=\"10\" y1=\"28\" x2=\"80\" y2=\"99\" style=\"stroke-width:2\" />\n",
       "\n",
       "  <!-- Vertical lines -->\n",
       "  <line x1=\"10\" y1=\"0\" x2=\"10\" y2=\"28\" style=\"stroke-width:2\" />\n",
       "  <line x1=\"15\" y1=\"5\" x2=\"15\" y2=\"34\" />\n",
       "  <line x1=\"21\" y1=\"11\" x2=\"21\" y2=\"39\" />\n",
       "  <line x1=\"27\" y1=\"17\" x2=\"27\" y2=\"45\" />\n",
       "  <line x1=\"32\" y1=\"22\" x2=\"32\" y2=\"51\" />\n",
       "  <line x1=\"38\" y1=\"28\" x2=\"38\" y2=\"57\" />\n",
       "  <line x1=\"44\" y1=\"34\" x2=\"44\" y2=\"62\" />\n",
       "  <line x1=\"50\" y1=\"40\" x2=\"50\" y2=\"68\" />\n",
       "  <line x1=\"55\" y1=\"45\" x2=\"55\" y2=\"74\" />\n",
       "  <line x1=\"61\" y1=\"51\" x2=\"61\" y2=\"80\" />\n",
       "  <line x1=\"67\" y1=\"57\" x2=\"67\" y2=\"85\" />\n",
       "  <line x1=\"73\" y1=\"63\" x2=\"73\" y2=\"91\" />\n",
       "  <line x1=\"78\" y1=\"68\" x2=\"78\" y2=\"97\" />\n",
       "  <line x1=\"80\" y1=\"70\" x2=\"80\" y2=\"99\" style=\"stroke-width:2\" />\n",
       "\n",
       "  <!-- Colored Rectangle -->\n",
       "  <polygon points=\"10.0,0.0 80.58823529411765,70.58823529411765 80.58823529411765,99.02974061618275 10.0,28.4415053220651\" style=\"fill:#ECB172A0;stroke-width:0\"/>\n",
       "\n",
       "  <!-- Horizontal lines -->\n",
       "  <line x1=\"10\" y1=\"0\" x2=\"45\" y2=\"0\" style=\"stroke-width:2\" />\n",
       "  <line x1=\"15\" y1=\"5\" x2=\"51\" y2=\"5\" />\n",
       "  <line x1=\"21\" y1=\"11\" x2=\"57\" y2=\"11\" />\n",
       "  <line x1=\"27\" y1=\"17\" x2=\"63\" y2=\"17\" />\n",
       "  <line x1=\"32\" y1=\"22\" x2=\"68\" y2=\"22\" />\n",
       "  <line x1=\"38\" y1=\"28\" x2=\"74\" y2=\"28\" />\n",
       "  <line x1=\"44\" y1=\"34\" x2=\"80\" y2=\"34\" />\n",
       "  <line x1=\"50\" y1=\"40\" x2=\"86\" y2=\"40\" />\n",
       "  <line x1=\"55\" y1=\"45\" x2=\"91\" y2=\"45\" />\n",
       "  <line x1=\"61\" y1=\"51\" x2=\"97\" y2=\"51\" />\n",
       "  <line x1=\"67\" y1=\"57\" x2=\"103\" y2=\"57\" />\n",
       "  <line x1=\"73\" y1=\"63\" x2=\"109\" y2=\"63\" />\n",
       "  <line x1=\"78\" y1=\"68\" x2=\"114\" y2=\"68\" />\n",
       "  <line x1=\"80\" y1=\"70\" x2=\"116\" y2=\"70\" style=\"stroke-width:2\" />\n",
       "\n",
       "  <!-- Vertical lines -->\n",
       "  <line x1=\"10\" y1=\"0\" x2=\"80\" y2=\"70\" style=\"stroke-width:2\" />\n",
       "  <line x1=\"45\" y1=\"0\" x2=\"116\" y2=\"70\" style=\"stroke-width:2\" />\n",
       "\n",
       "  <!-- Colored Rectangle -->\n",
       "  <polygon points=\"10.0,0.0 45.958780669186375,0.0 116.54701596330403,70.58823529411765 80.58823529411765,70.58823529411765\" style=\"fill:#ECB172A0;stroke-width:0\"/>\n",
       "\n",
       "  <!-- Horizontal lines -->\n",
       "  <line x1=\"80\" y1=\"70\" x2=\"116\" y2=\"70\" style=\"stroke-width:2\" />\n",
       "  <line x1=\"80\" y1=\"99\" x2=\"116\" y2=\"99\" style=\"stroke-width:2\" />\n",
       "\n",
       "  <!-- Vertical lines -->\n",
       "  <line x1=\"80\" y1=\"70\" x2=\"80\" y2=\"99\" style=\"stroke-width:2\" />\n",
       "  <line x1=\"116\" y1=\"70\" x2=\"116\" y2=\"99\" style=\"stroke-width:2\" />\n",
       "\n",
       "  <!-- Colored Rectangle -->\n",
       "  <polygon points=\"80.58823529411765,70.58823529411765 116.54701596330403,70.58823529411765 116.54701596330403,99.02974061618275 80.58823529411765,99.02974061618275\" style=\"fill:#ECB172A0;stroke-width:0\"/>\n",
       "\n",
       "  <!-- Text -->\n",
       "  <text x=\"98.567626\" y=\"119.029741\" font-size=\"1.0rem\" font-weight=\"100\" text-anchor=\"middle\" >452</text>\n",
       "  <text x=\"136.547016\" y=\"84.808988\" font-size=\"1.0rem\" font-weight=\"100\" text-anchor=\"middle\" transform=\"rotate(-90,136.547016,84.808988)\">128</text>\n",
       "  <text x=\"35.294118\" y=\"83.735623\" font-size=\"1.0rem\" font-weight=\"100\" text-anchor=\"middle\" transform=\"rotate(45,35.294118,83.735623)\">7114</text>\n",
       "</svg>\n",
       "        </td>\n",
       "    </tr>\n",
       "</table>"
      ],
      "text/plain": [
       "dask.array<array, shape=(7114, 128, 452), dtype=float32, chunksize=(579, 128, 452), chunktype=numpy.ndarray>"
      ]
     },
     "execution_count": 43,
     "metadata": {},
     "output_type": "execute_result"
    }
   ],
   "source": [
    "# Now we convert the data back to dask\n",
    "mfcc_data = da.asarray(padded_mfcc)\n",
    "mfcc_data"
   ]
  },
  {
   "cell_type": "code",
   "execution_count": 44,
   "id": "8bc27f0a-e4ed-4571-a307-e82a15ebb8a8",
   "metadata": {},
   "outputs": [
    {
     "data": {
      "text/plain": [
       "0                                España: Islas Canarias\n",
       "1     España: Norte peninsular (Asturias, Castilla y...\n",
       "2                                                México\n",
       "3     España: Sur peninsular (Andalucia, Extremadura...\n",
       "4                                        Islas Baleares\n",
       "5     España: Centro-Sur peninsular (Madrid, Toledo,...\n",
       "6                                           El Salvador\n",
       "7                                                  Peru\n",
       "8     Rioplatense: Argentina, Uruguay, este de Boliv...\n",
       "9     Caribe: Cuba, Venezuela, Puerto Rico, Repúblic...\n",
       "10                                              peneano\n",
       "11    Andino-Pacífico: Colombia, Perú, Ecuador, oest...\n",
       "12                                      América central\n",
       "13                                 Chileno: Chile, Cuyo\n",
       "Name: accents, dtype: string"
      ]
     },
     "execution_count": 44,
     "metadata": {},
     "output_type": "execute_result"
    }
   ],
   "source": [
    "# Now that we have the MFCC data we need to pull the accent unique values and codify them into numbers then generate the target array\n",
    "accent_class = common_voice_base['accents'].unique().compute()\n",
    "accent_class"
   ]
  },
  {
   "cell_type": "code",
   "execution_count": 45,
   "id": "3911687f-e2d9-4cf9-9e08-92932483be7e",
   "metadata": {},
   "outputs": [],
   "source": [
    "accents_encode = {}\n",
    "for i,accent in enumerate(accent_class):\n",
    "    accents_encode[accent] = i\n",
    "\n",
    "accents_decode = {}\n",
    "for i,accent in enumerate(accent_class):\n",
    "    accents_encode[i] = accent"
   ]
  },
  {
   "cell_type": "code",
   "execution_count": 46,
   "id": "45d4057b-d92a-4c8c-8042-f5a69ecb565c",
   "metadata": {},
   "outputs": [
    {
     "data": {
      "text/plain": [
       "0"
      ]
     },
     "execution_count": 46,
     "metadata": {},
     "output_type": "execute_result"
    }
   ],
   "source": [
    "accents_encode['España: Islas Canarias']"
   ]
  },
  {
   "cell_type": "code",
   "execution_count": 47,
   "id": "d3a2f74e-742d-4d46-bd45-ca27fdb53e97",
   "metadata": {},
   "outputs": [
    {
     "data": {
      "text/plain": [
       "0"
      ]
     },
     "execution_count": 47,
     "metadata": {},
     "output_type": "execute_result"
    }
   ],
   "source": [
    "accents_encode.get('España: Islas Canarias')"
   ]
  },
  {
   "cell_type": "code",
   "execution_count": 48,
   "id": "6a5cbc6c-8a04-4424-af53-3b1350d422ff",
   "metadata": {},
   "outputs": [],
   "source": [
    "meta_df = pd.Series(dtype='int', name='encoded_accents')\n",
    "common_voice_base['encoded_accents'] = common_voice_base['accents'].apply(lambda acc: accents_encode.get(acc), meta=meta_df)"
   ]
  },
  {
   "cell_type": "code",
   "execution_count": 49,
   "id": "06a6b878-c943-4bd7-90d2-70745618488d",
   "metadata": {},
   "outputs": [
    {
     "data": {
      "text/html": [
       "<div>\n",
       "<style scoped>\n",
       "    .dataframe tbody tr th:only-of-type {\n",
       "        vertical-align: middle;\n",
       "    }\n",
       "\n",
       "    .dataframe tbody tr th {\n",
       "        vertical-align: top;\n",
       "    }\n",
       "\n",
       "    .dataframe thead th {\n",
       "        text-align: right;\n",
       "    }\n",
       "</style>\n",
       "<table border=\"1\" class=\"dataframe\">\n",
       "  <thead>\n",
       "    <tr style=\"text-align: right;\">\n",
       "      <th></th>\n",
       "      <th>client_id</th>\n",
       "      <th>path</th>\n",
       "      <th>sentence</th>\n",
       "      <th>accents</th>\n",
       "      <th>full_path</th>\n",
       "      <th>encoded_accents</th>\n",
       "    </tr>\n",
       "  </thead>\n",
       "  <tbody>\n",
       "    <tr>\n",
       "      <th>25</th>\n",
       "      <td>4cdf8d8e32155d337b9a928486bb044b63442f1126cdfb...</td>\n",
       "      <td>common_voice_es_38028025.mp3</td>\n",
       "      <td>Es de estilo renacentista.</td>\n",
       "      <td>España: Islas Canarias</td>\n",
       "      <td>C:/Users/rzamb/Documents/UMD/651_Big_Data/fina...</td>\n",
       "      <td>0</td>\n",
       "    </tr>\n",
       "    <tr>\n",
       "      <th>26</th>\n",
       "      <td>4cdf8d8e32155d337b9a928486bb044b63442f1126cdfb...</td>\n",
       "      <td>common_voice_es_38028026.mp3</td>\n",
       "      <td>Dengeki Hime</td>\n",
       "      <td>España: Islas Canarias</td>\n",
       "      <td>C:/Users/rzamb/Documents/UMD/651_Big_Data/fina...</td>\n",
       "      <td>0</td>\n",
       "    </tr>\n",
       "    <tr>\n",
       "      <th>27</th>\n",
       "      <td>4cdf8d8e32155d337b9a928486bb044b63442f1126cdfb...</td>\n",
       "      <td>common_voice_es_38028027.mp3</td>\n",
       "      <td>Bruce H. McCormick fue el líder del proyecto.</td>\n",
       "      <td>España: Islas Canarias</td>\n",
       "      <td>C:/Users/rzamb/Documents/UMD/651_Big_Data/fina...</td>\n",
       "      <td>0</td>\n",
       "    </tr>\n",
       "    <tr>\n",
       "      <th>28</th>\n",
       "      <td>4cdf8d8e32155d337b9a928486bb044b63442f1126cdfb...</td>\n",
       "      <td>common_voice_es_38028028.mp3</td>\n",
       "      <td>En lugar de conseguir algún tipo de venganza p...</td>\n",
       "      <td>España: Islas Canarias</td>\n",
       "      <td>C:/Users/rzamb/Documents/UMD/651_Big_Data/fina...</td>\n",
       "      <td>0</td>\n",
       "    </tr>\n",
       "    <tr>\n",
       "      <th>29</th>\n",
       "      <td>4cdf8d8e32155d337b9a928486bb044b63442f1126cdfb...</td>\n",
       "      <td>common_voice_es_38028029.mp3</td>\n",
       "      <td>Éste, en contraste, es un artista reputado que...</td>\n",
       "      <td>España: Islas Canarias</td>\n",
       "      <td>C:/Users/rzamb/Documents/UMD/651_Big_Data/fina...</td>\n",
       "      <td>0</td>\n",
       "    </tr>\n",
       "  </tbody>\n",
       "</table>\n",
       "</div>"
      ],
      "text/plain": [
       "                                            client_id  \\\n",
       "25  4cdf8d8e32155d337b9a928486bb044b63442f1126cdfb...   \n",
       "26  4cdf8d8e32155d337b9a928486bb044b63442f1126cdfb...   \n",
       "27  4cdf8d8e32155d337b9a928486bb044b63442f1126cdfb...   \n",
       "28  4cdf8d8e32155d337b9a928486bb044b63442f1126cdfb...   \n",
       "29  4cdf8d8e32155d337b9a928486bb044b63442f1126cdfb...   \n",
       "\n",
       "                            path  \\\n",
       "25  common_voice_es_38028025.mp3   \n",
       "26  common_voice_es_38028026.mp3   \n",
       "27  common_voice_es_38028027.mp3   \n",
       "28  common_voice_es_38028028.mp3   \n",
       "29  common_voice_es_38028029.mp3   \n",
       "\n",
       "                                             sentence                 accents  \\\n",
       "25                         Es de estilo renacentista.  España: Islas Canarias   \n",
       "26                                       Dengeki Hime  España: Islas Canarias   \n",
       "27      Bruce H. McCormick fue el líder del proyecto.  España: Islas Canarias   \n",
       "28  En lugar de conseguir algún tipo de venganza p...  España: Islas Canarias   \n",
       "29  Éste, en contraste, es un artista reputado que...  España: Islas Canarias   \n",
       "\n",
       "                                            full_path  encoded_accents  \n",
       "25  C:/Users/rzamb/Documents/UMD/651_Big_Data/fina...                0  \n",
       "26  C:/Users/rzamb/Documents/UMD/651_Big_Data/fina...                0  \n",
       "27  C:/Users/rzamb/Documents/UMD/651_Big_Data/fina...                0  \n",
       "28  C:/Users/rzamb/Documents/UMD/651_Big_Data/fina...                0  \n",
       "29  C:/Users/rzamb/Documents/UMD/651_Big_Data/fina...                0  "
      ]
     },
     "execution_count": 49,
     "metadata": {},
     "output_type": "execute_result"
    }
   ],
   "source": [
    "common_voice_base.head(5)"
   ]
  },
  {
   "cell_type": "code",
   "execution_count": 50,
   "id": "e93bda63-5452-4e85-95f6-5b576d4dac15",
   "metadata": {},
   "outputs": [
    {
     "data": {
      "text/html": [
       "<div>\n",
       "<style scoped>\n",
       "    .dataframe tbody tr th:only-of-type {\n",
       "        vertical-align: middle;\n",
       "    }\n",
       "\n",
       "    .dataframe tbody tr th {\n",
       "        vertical-align: top;\n",
       "    }\n",
       "\n",
       "    .dataframe thead th {\n",
       "        text-align: right;\n",
       "    }\n",
       "</style>\n",
       "<table border=\"1\" class=\"dataframe\">\n",
       "  <thead>\n",
       "    <tr style=\"text-align: right;\">\n",
       "      <th></th>\n",
       "      <th>client_id</th>\n",
       "      <th>path</th>\n",
       "      <th>sentence</th>\n",
       "      <th>accents</th>\n",
       "      <th>full_path</th>\n",
       "      <th>encoded_accents</th>\n",
       "    </tr>\n",
       "  </thead>\n",
       "  <tbody>\n",
       "    <tr>\n",
       "      <th>7008</th>\n",
       "      <td>a1f17bd32c284ad4c0861c6a73836f4cf0359cdc3976f5...</td>\n",
       "      <td>common_voice_es_38354104.mp3</td>\n",
       "      <td>Las últimas tecnologías se anuncian como inmun...</td>\n",
       "      <td>Chileno: Chile, Cuyo</td>\n",
       "      <td>C:/Users/rzamb/Documents/UMD/651_Big_Data/fina...</td>\n",
       "      <td>13</td>\n",
       "    </tr>\n",
       "    <tr>\n",
       "      <th>7009</th>\n",
       "      <td>a1f17bd32c284ad4c0861c6a73836f4cf0359cdc3976f5...</td>\n",
       "      <td>common_voice_es_38354106.mp3</td>\n",
       "      <td>De su unión con García nació Migue García.</td>\n",
       "      <td>Chileno: Chile, Cuyo</td>\n",
       "      <td>C:/Users/rzamb/Documents/UMD/651_Big_Data/fina...</td>\n",
       "      <td>13</td>\n",
       "    </tr>\n",
       "    <tr>\n",
       "      <th>7010</th>\n",
       "      <td>a1f17bd32c284ad4c0861c6a73836f4cf0359cdc3976f5...</td>\n",
       "      <td>common_voice_es_38354107.mp3</td>\n",
       "      <td>Es el patrono de la iglesia y del distrito de ...</td>\n",
       "      <td>Chileno: Chile, Cuyo</td>\n",
       "      <td>C:/Users/rzamb/Documents/UMD/651_Big_Data/fina...</td>\n",
       "      <td>13</td>\n",
       "    </tr>\n",
       "    <tr>\n",
       "      <th>7011</th>\n",
       "      <td>a1f17bd32c284ad4c0861c6a73836f4cf0359cdc3976f5...</td>\n",
       "      <td>common_voice_es_38354108.mp3</td>\n",
       "      <td>Jacob el profeta tuvo doce hijos, y Dios hizo ...</td>\n",
       "      <td>Chileno: Chile, Cuyo</td>\n",
       "      <td>C:/Users/rzamb/Documents/UMD/651_Big_Data/fina...</td>\n",
       "      <td>13</td>\n",
       "    </tr>\n",
       "    <tr>\n",
       "      <th>7012</th>\n",
       "      <td>a1f17bd32c284ad4c0861c6a73836f4cf0359cdc3976f5...</td>\n",
       "      <td>common_voice_es_38354110.mp3</td>\n",
       "      <td>Los premios suelen ser presentados por bellas ...</td>\n",
       "      <td>Chileno: Chile, Cuyo</td>\n",
       "      <td>C:/Users/rzamb/Documents/UMD/651_Big_Data/fina...</td>\n",
       "      <td>13</td>\n",
       "    </tr>\n",
       "  </tbody>\n",
       "</table>\n",
       "</div>"
      ],
      "text/plain": [
       "                                              client_id  \\\n",
       "7008  a1f17bd32c284ad4c0861c6a73836f4cf0359cdc3976f5...   \n",
       "7009  a1f17bd32c284ad4c0861c6a73836f4cf0359cdc3976f5...   \n",
       "7010  a1f17bd32c284ad4c0861c6a73836f4cf0359cdc3976f5...   \n",
       "7011  a1f17bd32c284ad4c0861c6a73836f4cf0359cdc3976f5...   \n",
       "7012  a1f17bd32c284ad4c0861c6a73836f4cf0359cdc3976f5...   \n",
       "\n",
       "                              path  \\\n",
       "7008  common_voice_es_38354104.mp3   \n",
       "7009  common_voice_es_38354106.mp3   \n",
       "7010  common_voice_es_38354107.mp3   \n",
       "7011  common_voice_es_38354108.mp3   \n",
       "7012  common_voice_es_38354110.mp3   \n",
       "\n",
       "                                               sentence               accents  \\\n",
       "7008  Las últimas tecnologías se anuncian como inmun...  Chileno: Chile, Cuyo   \n",
       "7009         De su unión con García nació Migue García.  Chileno: Chile, Cuyo   \n",
       "7010  Es el patrono de la iglesia y del distrito de ...  Chileno: Chile, Cuyo   \n",
       "7011  Jacob el profeta tuvo doce hijos, y Dios hizo ...  Chileno: Chile, Cuyo   \n",
       "7012  Los premios suelen ser presentados por bellas ...  Chileno: Chile, Cuyo   \n",
       "\n",
       "                                              full_path  encoded_accents  \n",
       "7008  C:/Users/rzamb/Documents/UMD/651_Big_Data/fina...               13  \n",
       "7009  C:/Users/rzamb/Documents/UMD/651_Big_Data/fina...               13  \n",
       "7010  C:/Users/rzamb/Documents/UMD/651_Big_Data/fina...               13  \n",
       "7011  C:/Users/rzamb/Documents/UMD/651_Big_Data/fina...               13  \n",
       "7012  C:/Users/rzamb/Documents/UMD/651_Big_Data/fina...               13  "
      ]
     },
     "execution_count": 50,
     "metadata": {},
     "output_type": "execute_result"
    }
   ],
   "source": [
    "common_voice_base[common_voice_base['accents'] == 'Chileno: Chile, Cuyo'].head(5)"
   ]
  },
  {
   "cell_type": "code",
   "execution_count": 51,
   "id": "61835799-210f-454a-8298-5ac0c4323df9",
   "metadata": {},
   "outputs": [
    {
     "data": {
      "text/html": [
       "<table>\n",
       "    <tr>\n",
       "        <td>\n",
       "            <table style=\"border-collapse: collapse;\">\n",
       "                <thead>\n",
       "                    <tr>\n",
       "                        <td> </td>\n",
       "                        <th> Array </th>\n",
       "                        <th> Chunk </th>\n",
       "                    </tr>\n",
       "                </thead>\n",
       "                <tbody>\n",
       "                    \n",
       "                    <tr>\n",
       "                        <th> Bytes </th>\n",
       "                        <td> 55.58 kiB </td>\n",
       "                        <td> 55.58 kiB </td>\n",
       "                    </tr>\n",
       "                    \n",
       "                    <tr>\n",
       "                        <th> Shape </th>\n",
       "                        <td> (7114,) </td>\n",
       "                        <td> (7114,) </td>\n",
       "                    </tr>\n",
       "                    <tr>\n",
       "                        <th> Dask graph </th>\n",
       "                        <td colspan=\"2\"> 1 chunks in 1 graph layer </td>\n",
       "                    </tr>\n",
       "                    <tr>\n",
       "                        <th> Data type </th>\n",
       "                        <td colspan=\"2\"> int64 numpy.ndarray </td>\n",
       "                    </tr>\n",
       "                </tbody>\n",
       "            </table>\n",
       "        </td>\n",
       "        <td>\n",
       "        <svg width=\"170\" height=\"75\" style=\"stroke:rgb(0,0,0);stroke-width:1\" >\n",
       "\n",
       "  <!-- Horizontal lines -->\n",
       "  <line x1=\"0\" y1=\"0\" x2=\"120\" y2=\"0\" style=\"stroke-width:2\" />\n",
       "  <line x1=\"0\" y1=\"25\" x2=\"120\" y2=\"25\" style=\"stroke-width:2\" />\n",
       "\n",
       "  <!-- Vertical lines -->\n",
       "  <line x1=\"0\" y1=\"0\" x2=\"0\" y2=\"25\" style=\"stroke-width:2\" />\n",
       "  <line x1=\"120\" y1=\"0\" x2=\"120\" y2=\"25\" style=\"stroke-width:2\" />\n",
       "\n",
       "  <!-- Colored Rectangle -->\n",
       "  <polygon points=\"0.0,0.0 120.0,0.0 120.0,25.412616514582485 0.0,25.412616514582485\" style=\"fill:#ECB172A0;stroke-width:0\"/>\n",
       "\n",
       "  <!-- Text -->\n",
       "  <text x=\"60.000000\" y=\"45.412617\" font-size=\"1.0rem\" font-weight=\"100\" text-anchor=\"middle\" >7114</text>\n",
       "  <text x=\"140.000000\" y=\"12.706308\" font-size=\"1.0rem\" font-weight=\"100\" text-anchor=\"middle\" transform=\"rotate(0,140.000000,12.706308)\">1</text>\n",
       "</svg>\n",
       "        </td>\n",
       "    </tr>\n",
       "</table>"
      ],
      "text/plain": [
       "dask.array<array, shape=(7114,), dtype=int64, chunksize=(7114,), chunktype=numpy.ndarray>"
      ]
     },
     "execution_count": 51,
     "metadata": {},
     "output_type": "execute_result"
    }
   ],
   "source": [
    "targets = common_voice_base['encoded_accents'].compute().to_numpy()\n",
    "target_arr = da.asarray(targets)\n",
    "target_arr"
   ]
  },
  {
   "cell_type": "code",
   "execution_count": 52,
   "id": "31918b34-0062-49ab-93e7-abd64878cc2d",
   "metadata": {},
   "outputs": [
    {
     "data": {
      "text/html": [
       "<table>\n",
       "    <tr>\n",
       "        <td>\n",
       "            <table style=\"border-collapse: collapse;\">\n",
       "                <thead>\n",
       "                    <tr>\n",
       "                        <td> </td>\n",
       "                        <th> Array </th>\n",
       "                        <th> Chunk </th>\n",
       "                    </tr>\n",
       "                </thead>\n",
       "                <tbody>\n",
       "                    \n",
       "                    <tr>\n",
       "                        <th> Bytes </th>\n",
       "                        <td> 1.53 GiB </td>\n",
       "                        <td> 127.79 MiB </td>\n",
       "                    </tr>\n",
       "                    \n",
       "                    <tr>\n",
       "                        <th> Shape </th>\n",
       "                        <td> (7114, 128, 452) </td>\n",
       "                        <td> (579, 128, 452) </td>\n",
       "                    </tr>\n",
       "                    <tr>\n",
       "                        <th> Dask graph </th>\n",
       "                        <td colspan=\"2\"> 13 chunks in 1 graph layer </td>\n",
       "                    </tr>\n",
       "                    <tr>\n",
       "                        <th> Data type </th>\n",
       "                        <td colspan=\"2\"> float32 numpy.ndarray </td>\n",
       "                    </tr>\n",
       "                </tbody>\n",
       "            </table>\n",
       "        </td>\n",
       "        <td>\n",
       "        <svg width=\"166\" height=\"149\" style=\"stroke:rgb(0,0,0);stroke-width:1\" >\n",
       "\n",
       "  <!-- Horizontal lines -->\n",
       "  <line x1=\"10\" y1=\"0\" x2=\"80\" y2=\"70\" style=\"stroke-width:2\" />\n",
       "  <line x1=\"10\" y1=\"28\" x2=\"80\" y2=\"99\" style=\"stroke-width:2\" />\n",
       "\n",
       "  <!-- Vertical lines -->\n",
       "  <line x1=\"10\" y1=\"0\" x2=\"10\" y2=\"28\" style=\"stroke-width:2\" />\n",
       "  <line x1=\"15\" y1=\"5\" x2=\"15\" y2=\"34\" />\n",
       "  <line x1=\"21\" y1=\"11\" x2=\"21\" y2=\"39\" />\n",
       "  <line x1=\"27\" y1=\"17\" x2=\"27\" y2=\"45\" />\n",
       "  <line x1=\"32\" y1=\"22\" x2=\"32\" y2=\"51\" />\n",
       "  <line x1=\"38\" y1=\"28\" x2=\"38\" y2=\"57\" />\n",
       "  <line x1=\"44\" y1=\"34\" x2=\"44\" y2=\"62\" />\n",
       "  <line x1=\"50\" y1=\"40\" x2=\"50\" y2=\"68\" />\n",
       "  <line x1=\"55\" y1=\"45\" x2=\"55\" y2=\"74\" />\n",
       "  <line x1=\"61\" y1=\"51\" x2=\"61\" y2=\"80\" />\n",
       "  <line x1=\"67\" y1=\"57\" x2=\"67\" y2=\"85\" />\n",
       "  <line x1=\"73\" y1=\"63\" x2=\"73\" y2=\"91\" />\n",
       "  <line x1=\"78\" y1=\"68\" x2=\"78\" y2=\"97\" />\n",
       "  <line x1=\"80\" y1=\"70\" x2=\"80\" y2=\"99\" style=\"stroke-width:2\" />\n",
       "\n",
       "  <!-- Colored Rectangle -->\n",
       "  <polygon points=\"10.0,0.0 80.58823529411765,70.58823529411765 80.58823529411765,99.02974061618275 10.0,28.4415053220651\" style=\"fill:#ECB172A0;stroke-width:0\"/>\n",
       "\n",
       "  <!-- Horizontal lines -->\n",
       "  <line x1=\"10\" y1=\"0\" x2=\"45\" y2=\"0\" style=\"stroke-width:2\" />\n",
       "  <line x1=\"15\" y1=\"5\" x2=\"51\" y2=\"5\" />\n",
       "  <line x1=\"21\" y1=\"11\" x2=\"57\" y2=\"11\" />\n",
       "  <line x1=\"27\" y1=\"17\" x2=\"63\" y2=\"17\" />\n",
       "  <line x1=\"32\" y1=\"22\" x2=\"68\" y2=\"22\" />\n",
       "  <line x1=\"38\" y1=\"28\" x2=\"74\" y2=\"28\" />\n",
       "  <line x1=\"44\" y1=\"34\" x2=\"80\" y2=\"34\" />\n",
       "  <line x1=\"50\" y1=\"40\" x2=\"86\" y2=\"40\" />\n",
       "  <line x1=\"55\" y1=\"45\" x2=\"91\" y2=\"45\" />\n",
       "  <line x1=\"61\" y1=\"51\" x2=\"97\" y2=\"51\" />\n",
       "  <line x1=\"67\" y1=\"57\" x2=\"103\" y2=\"57\" />\n",
       "  <line x1=\"73\" y1=\"63\" x2=\"109\" y2=\"63\" />\n",
       "  <line x1=\"78\" y1=\"68\" x2=\"114\" y2=\"68\" />\n",
       "  <line x1=\"80\" y1=\"70\" x2=\"116\" y2=\"70\" style=\"stroke-width:2\" />\n",
       "\n",
       "  <!-- Vertical lines -->\n",
       "  <line x1=\"10\" y1=\"0\" x2=\"80\" y2=\"70\" style=\"stroke-width:2\" />\n",
       "  <line x1=\"45\" y1=\"0\" x2=\"116\" y2=\"70\" style=\"stroke-width:2\" />\n",
       "\n",
       "  <!-- Colored Rectangle -->\n",
       "  <polygon points=\"10.0,0.0 45.958780669186375,0.0 116.54701596330403,70.58823529411765 80.58823529411765,70.58823529411765\" style=\"fill:#ECB172A0;stroke-width:0\"/>\n",
       "\n",
       "  <!-- Horizontal lines -->\n",
       "  <line x1=\"80\" y1=\"70\" x2=\"116\" y2=\"70\" style=\"stroke-width:2\" />\n",
       "  <line x1=\"80\" y1=\"99\" x2=\"116\" y2=\"99\" style=\"stroke-width:2\" />\n",
       "\n",
       "  <!-- Vertical lines -->\n",
       "  <line x1=\"80\" y1=\"70\" x2=\"80\" y2=\"99\" style=\"stroke-width:2\" />\n",
       "  <line x1=\"116\" y1=\"70\" x2=\"116\" y2=\"99\" style=\"stroke-width:2\" />\n",
       "\n",
       "  <!-- Colored Rectangle -->\n",
       "  <polygon points=\"80.58823529411765,70.58823529411765 116.54701596330403,70.58823529411765 116.54701596330403,99.02974061618275 80.58823529411765,99.02974061618275\" style=\"fill:#ECB172A0;stroke-width:0\"/>\n",
       "\n",
       "  <!-- Text -->\n",
       "  <text x=\"98.567626\" y=\"119.029741\" font-size=\"1.0rem\" font-weight=\"100\" text-anchor=\"middle\" >452</text>\n",
       "  <text x=\"136.547016\" y=\"84.808988\" font-size=\"1.0rem\" font-weight=\"100\" text-anchor=\"middle\" transform=\"rotate(-90,136.547016,84.808988)\">128</text>\n",
       "  <text x=\"35.294118\" y=\"83.735623\" font-size=\"1.0rem\" font-weight=\"100\" text-anchor=\"middle\" transform=\"rotate(45,35.294118,83.735623)\">7114</text>\n",
       "</svg>\n",
       "        </td>\n",
       "    </tr>\n",
       "</table>"
      ],
      "text/plain": [
       "dask.array<array, shape=(7114, 128, 452), dtype=float32, chunksize=(579, 128, 452), chunktype=numpy.ndarray>"
      ]
     },
     "execution_count": 52,
     "metadata": {},
     "output_type": "execute_result"
    }
   ],
   "source": [
    "mfcc_data"
   ]
  },
  {
   "cell_type": "code",
   "execution_count": 53,
   "id": "c0e44e3a-1952-42ff-8a60-9d8fc8cee636",
   "metadata": {},
   "outputs": [
    {
     "name": "stderr",
     "output_type": "stream",
     "text": [
      "C:\\Users\\rzamb\\Documents\\UMD\\651_Big_Data\\finalProjectTest2\\.venv\\Lib\\site-packages\\sklearn\\utils\\__init__.py:184: PerformanceWarning: Slicing with an out-of-order index is generating 354 times more chunks\n",
      "  return array[key] if axis == 0 else array[:, key]\n",
      "C:\\Users\\rzamb\\Documents\\UMD\\651_Big_Data\\finalProjectTest2\\.venv\\Lib\\site-packages\\sklearn\\utils\\__init__.py:184: PerformanceWarning: Slicing with an out-of-order index is generating 152 times more chunks\n",
      "  return array[key] if axis == 0 else array[:, key]\n"
     ]
    }
   ],
   "source": [
    "X_train, X_test, y_train, y_test = train_test_split(mfcc_data, target_arr,test_size=0.30, random_state=42)"
   ]
  },
  {
   "cell_type": "code",
   "execution_count": 54,
   "id": "4e20c028-936c-4b86-8cd6-0e3361fc7f4a",
   "metadata": {},
   "outputs": [
    {
     "data": {
      "text/html": [
       "<table>\n",
       "    <tr>\n",
       "        <td>\n",
       "            <table style=\"border-collapse: collapse;\">\n",
       "                <thead>\n",
       "                    <tr>\n",
       "                        <td> </td>\n",
       "                        <th> Array </th>\n",
       "                        <th> Chunk </th>\n",
       "                    </tr>\n",
       "                </thead>\n",
       "                <tbody>\n",
       "                    \n",
       "                    <tr>\n",
       "                        <th> Bytes </th>\n",
       "                        <td> 1.07 GiB </td>\n",
       "                        <td> 904.00 kiB </td>\n",
       "                    </tr>\n",
       "                    \n",
       "                    <tr>\n",
       "                        <th> Shape </th>\n",
       "                        <td> (4979, 128, 452) </td>\n",
       "                        <td> (4, 128, 452) </td>\n",
       "                    </tr>\n",
       "                    <tr>\n",
       "                        <th> Dask graph </th>\n",
       "                        <td colspan=\"2\"> 4600 chunks in 2 graph layers </td>\n",
       "                    </tr>\n",
       "                    <tr>\n",
       "                        <th> Data type </th>\n",
       "                        <td colspan=\"2\"> float32 numpy.ndarray </td>\n",
       "                    </tr>\n",
       "                </tbody>\n",
       "            </table>\n",
       "        </td>\n",
       "        <td>\n",
       "        <svg width=\"168\" height=\"151\" style=\"stroke:rgb(0,0,0);stroke-width:1\" >\n",
       "\n",
       "  <!-- Horizontal lines -->\n",
       "  <line x1=\"10\" y1=\"0\" x2=\"80\" y2=\"70\" style=\"stroke-width:2\" />\n",
       "  <line x1=\"10\" y1=\"30\" x2=\"80\" y2=\"101\" style=\"stroke-width:2\" />\n",
       "\n",
       "  <!-- Vertical lines -->\n",
       "  <line x1=\"10\" y1=\"0\" x2=\"10\" y2=\"30\" style=\"stroke-width:2\" />\n",
       "  <line x1=\"13\" y1=\"3\" x2=\"13\" y2=\"34\" />\n",
       "  <line x1=\"17\" y1=\"7\" x2=\"17\" y2=\"38\" />\n",
       "  <line x1=\"21\" y1=\"11\" x2=\"21\" y2=\"41\" />\n",
       "  <line x1=\"24\" y1=\"14\" x2=\"24\" y2=\"45\" />\n",
       "  <line x1=\"28\" y1=\"18\" x2=\"28\" y2=\"49\" />\n",
       "  <line x1=\"32\" y1=\"22\" x2=\"32\" y2=\"52\" />\n",
       "  <line x1=\"36\" y1=\"26\" x2=\"36\" y2=\"56\" />\n",
       "  <line x1=\"39\" y1=\"29\" x2=\"39\" y2=\"60\" />\n",
       "  <line x1=\"43\" y1=\"33\" x2=\"43\" y2=\"63\" />\n",
       "  <line x1=\"47\" y1=\"37\" x2=\"47\" y2=\"67\" />\n",
       "  <line x1=\"50\" y1=\"40\" x2=\"50\" y2=\"71\" />\n",
       "  <line x1=\"54\" y1=\"44\" x2=\"54\" y2=\"75\" />\n",
       "  <line x1=\"58\" y1=\"48\" x2=\"58\" y2=\"78\" />\n",
       "  <line x1=\"62\" y1=\"52\" x2=\"62\" y2=\"82\" />\n",
       "  <line x1=\"65\" y1=\"55\" x2=\"65\" y2=\"86\" />\n",
       "  <line x1=\"69\" y1=\"59\" x2=\"69\" y2=\"89\" />\n",
       "  <line x1=\"73\" y1=\"63\" x2=\"73\" y2=\"93\" />\n",
       "  <line x1=\"76\" y1=\"66\" x2=\"76\" y2=\"97\" />\n",
       "  <line x1=\"80\" y1=\"70\" x2=\"80\" y2=\"101\" style=\"stroke-width:2\" />\n",
       "\n",
       "  <!-- Colored Rectangle -->\n",
       "  <polygon points=\"10.0,0.0 80.58823529411765,70.58823529411765 80.58823529411765,101.06318515059276 10.0,30.474949856475103\" style=\"fill:#8B4903A0;stroke-width:0\"/>\n",
       "\n",
       "  <!-- Horizontal lines -->\n",
       "  <line x1=\"10\" y1=\"0\" x2=\"48\" y2=\"0\" style=\"stroke-width:2\" />\n",
       "  <line x1=\"13\" y1=\"3\" x2=\"51\" y2=\"3\" />\n",
       "  <line x1=\"17\" y1=\"7\" x2=\"55\" y2=\"7\" />\n",
       "  <line x1=\"21\" y1=\"11\" x2=\"59\" y2=\"11\" />\n",
       "  <line x1=\"24\" y1=\"14\" x2=\"62\" y2=\"14\" />\n",
       "  <line x1=\"28\" y1=\"18\" x2=\"66\" y2=\"18\" />\n",
       "  <line x1=\"32\" y1=\"22\" x2=\"70\" y2=\"22\" />\n",
       "  <line x1=\"36\" y1=\"26\" x2=\"74\" y2=\"26\" />\n",
       "  <line x1=\"39\" y1=\"29\" x2=\"77\" y2=\"29\" />\n",
       "  <line x1=\"43\" y1=\"33\" x2=\"81\" y2=\"33\" />\n",
       "  <line x1=\"47\" y1=\"37\" x2=\"85\" y2=\"37\" />\n",
       "  <line x1=\"50\" y1=\"40\" x2=\"89\" y2=\"40\" />\n",
       "  <line x1=\"54\" y1=\"44\" x2=\"92\" y2=\"44\" />\n",
       "  <line x1=\"58\" y1=\"48\" x2=\"96\" y2=\"48\" />\n",
       "  <line x1=\"62\" y1=\"52\" x2=\"100\" y2=\"52\" />\n",
       "  <line x1=\"65\" y1=\"55\" x2=\"103\" y2=\"55\" />\n",
       "  <line x1=\"69\" y1=\"59\" x2=\"107\" y2=\"59\" />\n",
       "  <line x1=\"73\" y1=\"63\" x2=\"111\" y2=\"63\" />\n",
       "  <line x1=\"76\" y1=\"66\" x2=\"114\" y2=\"66\" />\n",
       "  <line x1=\"80\" y1=\"70\" x2=\"118\" y2=\"70\" style=\"stroke-width:2\" />\n",
       "\n",
       "  <!-- Vertical lines -->\n",
       "  <line x1=\"10\" y1=\"0\" x2=\"80\" y2=\"70\" style=\"stroke-width:2\" />\n",
       "  <line x1=\"48\" y1=\"0\" x2=\"118\" y2=\"70\" style=\"stroke-width:2\" />\n",
       "\n",
       "  <!-- Colored Rectangle -->\n",
       "  <polygon points=\"10.0,0.0 48.05419236813689,0.0 118.64242766225453,70.58823529411765 80.58823529411765,70.58823529411765\" style=\"fill:#8B4903A0;stroke-width:0\"/>\n",
       "\n",
       "  <!-- Horizontal lines -->\n",
       "  <line x1=\"80\" y1=\"70\" x2=\"118\" y2=\"70\" style=\"stroke-width:2\" />\n",
       "  <line x1=\"80\" y1=\"101\" x2=\"118\" y2=\"101\" style=\"stroke-width:2\" />\n",
       "\n",
       "  <!-- Vertical lines -->\n",
       "  <line x1=\"80\" y1=\"70\" x2=\"80\" y2=\"101\" style=\"stroke-width:2\" />\n",
       "  <line x1=\"118\" y1=\"70\" x2=\"118\" y2=\"101\" style=\"stroke-width:2\" />\n",
       "\n",
       "  <!-- Colored Rectangle -->\n",
       "  <polygon points=\"80.58823529411765,70.58823529411765 118.64242766225453,70.58823529411765 118.64242766225453,101.06318515059276 80.58823529411765,101.06318515059276\" style=\"fill:#ECB172A0;stroke-width:0\"/>\n",
       "\n",
       "  <!-- Text -->\n",
       "  <text x=\"99.615331\" y=\"121.063185\" font-size=\"1.0rem\" font-weight=\"100\" text-anchor=\"middle\" >452</text>\n",
       "  <text x=\"138.642428\" y=\"85.825710\" font-size=\"1.0rem\" font-weight=\"100\" text-anchor=\"middle\" transform=\"rotate(-90,138.642428,85.825710)\">128</text>\n",
       "  <text x=\"35.294118\" y=\"85.769068\" font-size=\"1.0rem\" font-weight=\"100\" text-anchor=\"middle\" transform=\"rotate(45,35.294118,85.769068)\">4979</text>\n",
       "</svg>\n",
       "        </td>\n",
       "    </tr>\n",
       "</table>"
      ],
      "text/plain": [
       "dask.array<getitem, shape=(4979, 128, 452), dtype=float32, chunksize=(4, 128, 452), chunktype=numpy.ndarray>"
      ]
     },
     "execution_count": 54,
     "metadata": {},
     "output_type": "execute_result"
    }
   ],
   "source": [
    "X_train"
   ]
  },
  {
   "cell_type": "code",
   "execution_count": 55,
   "id": "8307ef6a-4a26-4fef-b77a-14cf3ba929ec",
   "metadata": {},
   "outputs": [
    {
     "data": {
      "text/html": [
       "<table>\n",
       "    <tr>\n",
       "        <td>\n",
       "            <table style=\"border-collapse: collapse;\">\n",
       "                <thead>\n",
       "                    <tr>\n",
       "                        <td> </td>\n",
       "                        <th> Array </th>\n",
       "                        <th> Chunk </th>\n",
       "                    </tr>\n",
       "                </thead>\n",
       "                <tbody>\n",
       "                    \n",
       "                    <tr>\n",
       "                        <th> Bytes </th>\n",
       "                        <td> 38.90 kiB </td>\n",
       "                        <td> 38.90 kiB </td>\n",
       "                    </tr>\n",
       "                    \n",
       "                    <tr>\n",
       "                        <th> Shape </th>\n",
       "                        <td> (4979,) </td>\n",
       "                        <td> (4979,) </td>\n",
       "                    </tr>\n",
       "                    <tr>\n",
       "                        <th> Dask graph </th>\n",
       "                        <td colspan=\"2\"> 1 chunks in 2 graph layers </td>\n",
       "                    </tr>\n",
       "                    <tr>\n",
       "                        <th> Data type </th>\n",
       "                        <td colspan=\"2\"> int64 numpy.ndarray </td>\n",
       "                    </tr>\n",
       "                </tbody>\n",
       "            </table>\n",
       "        </td>\n",
       "        <td>\n",
       "        <svg width=\"170\" height=\"75\" style=\"stroke:rgb(0,0,0);stroke-width:1\" >\n",
       "\n",
       "  <!-- Horizontal lines -->\n",
       "  <line x1=\"0\" y1=\"0\" x2=\"120\" y2=\"0\" style=\"stroke-width:2\" />\n",
       "  <line x1=\"0\" y1=\"25\" x2=\"120\" y2=\"25\" style=\"stroke-width:2\" />\n",
       "\n",
       "  <!-- Vertical lines -->\n",
       "  <line x1=\"0\" y1=\"0\" x2=\"0\" y2=\"25\" style=\"stroke-width:2\" />\n",
       "  <line x1=\"120\" y1=\"0\" x2=\"120\" y2=\"25\" style=\"stroke-width:2\" />\n",
       "\n",
       "  <!-- Colored Rectangle -->\n",
       "  <polygon points=\"0.0,0.0 120.0,0.0 120.0,25.412616514582485 0.0,25.412616514582485\" style=\"fill:#ECB172A0;stroke-width:0\"/>\n",
       "\n",
       "  <!-- Text -->\n",
       "  <text x=\"60.000000\" y=\"45.412617\" font-size=\"1.0rem\" font-weight=\"100\" text-anchor=\"middle\" >4979</text>\n",
       "  <text x=\"140.000000\" y=\"12.706308\" font-size=\"1.0rem\" font-weight=\"100\" text-anchor=\"middle\" transform=\"rotate(0,140.000000,12.706308)\">1</text>\n",
       "</svg>\n",
       "        </td>\n",
       "    </tr>\n",
       "</table>"
      ],
      "text/plain": [
       "dask.array<getitem, shape=(4979,), dtype=int64, chunksize=(4979,), chunktype=numpy.ndarray>"
      ]
     },
     "execution_count": 55,
     "metadata": {},
     "output_type": "execute_result"
    }
   ],
   "source": [
    "y_train"
   ]
  },
  {
   "cell_type": "code",
   "execution_count": 56,
   "id": "5a5fc75a-f648-4aa4-8cec-2307ac30128c",
   "metadata": {},
   "outputs": [],
   "source": [
    "param_grid = {\"C\": [0.001, 0.01, 0.1, 0.5, 1.0, 2.0, 5.0, 10.0],\n",
    "              \"kernel\": ['rbf', 'poly', 'sigmoid'],\n",
    "              \"shrinking\": [True, False]}"
   ]
  },
  {
   "cell_type": "code",
   "execution_count": 57,
   "id": "c9fb46f0-87c4-4f01-bac6-e00e5a07ac91",
   "metadata": {},
   "outputs": [],
   "source": [
    "grid_search = GridSearchCV(SVC(gamma='auto', random_state=0, probability=True),\n",
    "                           param_grid=param_grid,\n",
    "                           return_train_score=False,\n",
    "                           cv=3,\n",
    "                           n_jobs=-1)"
   ]
  },
  {
   "cell_type": "code",
   "execution_count": 1,
   "id": "4f09894b-0ced-4e28-bae0-f910685bb6a5",
   "metadata": {},
   "outputs": [],
   "source": [
    "# #client = Client()\n",
    "# client = Client(processes=False, threads_per_worker=4,\n",
    "#                 n_workers=1, memory_limit='2GB')"
   ]
  },
  {
   "cell_type": "code",
   "execution_count": 59,
   "id": "d9d368fb-b45f-4246-8b2d-8957ecca5597",
   "metadata": {},
   "outputs": [],
   "source": [
    "# start_time = time.time()\n",
    "\n",
    "# with joblib.parallel_backend('dask'):\n",
    "#     grid_search.fit(X_train.compute(), y_train.compute())\n",
    "\n",
    "# print(time.time()-start_time)"
   ]
  },
  {
   "cell_type": "code",
   "execution_count": 58,
   "id": "b889e801-99c2-4b08-a582-898148c06050",
   "metadata": {},
   "outputs": [],
   "source": [
    "xx = X_train.compute()\n",
    "yy = y_train.compute()"
   ]
  },
  {
   "cell_type": "code",
   "execution_count": 60,
   "id": "5ec61752-4b06-4cf3-a7b9-d0b8f30c33d7",
   "metadata": {},
   "outputs": [],
   "source": [
    "# start_time = time.time()\n",
    "# grid_search.fit(xx, yy)\n",
    "# print(time.time()-start_time)"
   ]
  },
  {
   "cell_type": "code",
   "execution_count": null,
   "id": "5db93e82-f6f3-4d24-8d5a-2587ce83c1f3",
   "metadata": {},
   "outputs": [],
   "source": [
    "start_time = time.time()\n",
    "\n",
    "with joblib.parallel_backend('dask'):\n",
    "    grid_search.fit(xx, yy)\n",
    "\n",
    "print(time.time()-start_time)"
   ]
  },
  {
   "cell_type": "code",
   "execution_count": null,
   "id": "d8d64118-89ff-4e4e-921c-6dce21995cb7",
   "metadata": {},
   "outputs": [],
   "source": [
    "pd.DataFrame(grid_search.cv_results_).head()"
   ]
  },
  {
   "cell_type": "code",
   "execution_count": null,
   "id": "ad787c08-45c9-437c-aa49-1ec7f0b770fa",
   "metadata": {},
   "outputs": [],
   "source": [
    "accuracy = accuracy_score(y_true, y_pred)\n",
    "precision = precision_score(y_true, y_pred)\n",
    "recall = recall_score(y_true, y_pred)"
   ]
  },
  {
   "cell_type": "code",
   "execution_count": 65,
   "id": "2be24291-d0f0-4ec9-bede-24bc0cfaecdb",
   "metadata": {},
   "outputs": [
    {
     "name": "stdout",
     "output_type": "stream",
     "text": [
      "124\n",
      "0\n",
      "61.415096991847065\n"
     ]
    }
   ],
   "source": [
    "sentences = common_voice_base['sentence'].compute().tolist()\n",
    "sentence_lengths = []\n",
    "for sent in sentences:\n",
    "    try:\n",
    "        sentence_lengths.append(len(sent))\n",
    "    except:\n",
    "        sentence_lengths.append(0)\n",
    "print(max(sentence_lengths))\n",
    "print(min(sentence_lengths))\n",
    "print(sum(sentence_lengths)/len(sentence_lengths))"
   ]
  },
  {
   "cell_type": "code",
   "execution_count": 67,
   "id": "b442946d-2d37-42fe-aa32-5c696c97ebe2",
   "metadata": {},
   "outputs": [
    {
     "data": {
      "text/plain": [
       "(array([  15.,  130.,  296.,  592.,  910., 1172., 1345., 1343.,  862.,\n",
       "         349.,   84.,   14.,    2.]),\n",
       " array([  0.,  10.,  20.,  30.,  40.,  50.,  60.,  70.,  80.,  90., 100.,\n",
       "        110., 120., 130.]),\n",
       " <BarContainer object of 13 artists>)"
      ]
     },
     "execution_count": 67,
     "metadata": {},
     "output_type": "execute_result"
    },
    {
     "data": {
      "image/png": "[encoded data removed]",
      "text/plain": [
       "<Figure size 640x480 with 1 Axes>"
      ]
     },
     "metadata": {},
     "output_type": "display_data"
    }
   ],
   "source": [
    "plt.hist(np.array(sentence_lengths), bins=[0,10,20,30,40,50,60,70,80,90,100,110,120,130])"
   ]
  },
  {
   "cell_type": "code",
   "execution_count": null,
   "id": "2caa2209-d422-47eb-8618-ed1411e78a4f",
   "metadata": {},
   "outputs": [],
   "source": []
  },
  {
   "cell_type": "code",
   "execution_count": null,
   "id": "fd35bcb9-2452-4c7e-b325-1c82ee9090f2",
   "metadata": {},
   "outputs": [],
   "source": []
  },
  {
   "cell_type": "code",
   "execution_count": null,
   "id": "c679e207-0dda-448f-a51e-382163bac49c",
   "metadata": {},
   "outputs": [],
   "source": []
  },
  {
   "cell_type": "code",
   "execution_count": null,
   "id": "078e7967-a1b4-4863-b2ce-55d204d49942",
   "metadata": {},
   "outputs": [],
   "source": []
  },
  {
   "cell_type": "code",
   "execution_count": null,
   "id": "ed665e09-c1d5-4f2b-bc67-55fa92827344",
   "metadata": {},
   "outputs": [],
   "source": []
  },
  {
   "cell_type": "code",
   "execution_count": null,
   "id": "14b51c21-b50e-42ba-a751-a51192030f32",
   "metadata": {},
   "outputs": [],
   "source": []
  },
  {
   "cell_type": "code",
   "execution_count": null,
   "id": "f0c55c4c-4894-41e3-934d-afed1a8718bf",
   "metadata": {},
   "outputs": [],
   "source": []
  },
  {
   "cell_type": "code",
   "execution_count": null,
   "id": "8b24d9f1-80e3-487d-bc4a-ee6dd51a0183",
   "metadata": {},
   "outputs": [],
   "source": []
  },
  {
   "cell_type": "code",
   "execution_count": null,
   "id": "915215eb-3108-4726-8ab0-5764f9b604a9",
   "metadata": {},
   "outputs": [],
   "source": []
  },
  {
   "cell_type": "code",
   "execution_count": null,
   "id": "22819976-db0d-459c-b568-eedffeed0024",
   "metadata": {},
   "outputs": [],
   "source": []
  },
  {
   "cell_type": "code",
   "execution_count": null,
   "id": "82c987fe-a8a6-40d1-a8b6-6a85579d5828",
   "metadata": {},
   "outputs": [],
   "source": []
  },
  {
   "cell_type": "code",
   "execution_count": null,
   "id": "d93d9d1b-7dd8-4fc5-90e9-0cc53b992f59",
   "metadata": {},
   "outputs": [],
   "source": []
  },
  {
   "cell_type": "code",
   "execution_count": null,
   "id": "e0bd1841-2329-4afd-ad78-fd65a22dc6eb",
   "metadata": {},
   "outputs": [],
   "source": []
  },
  {
   "cell_type": "code",
   "execution_count": 261,
   "id": "e6ffb043-eb70-4144-80b4-d038c372893a",
   "metadata": {},
   "outputs": [],
   "source": [
    "X, y = make_classification(n_samples=1000, random_state=0)"
   ]
  },
  {
   "cell_type": "code",
   "execution_count": 262,
   "id": "007073b8-22d9-4ba9-a3ee-ff4ba740cb12",
   "metadata": {},
   "outputs": [],
   "source": [
    "X = da.asarray(X)\n",
    "y = da.asarray(y)"
   ]
  },
  {
   "cell_type": "code",
   "execution_count": 265,
   "id": "5da6526c-e5ab-4a49-96b1-44774042869a",
   "metadata": {},
   "outputs": [],
   "source": [
    "with joblib.parallel_backend('dask'):\n",
    "    grid_search.fit(X.compute(), y.compute())"
   ]
  },
  {
   "cell_type": "code",
   "execution_count": 266,
   "id": "0fd8d4a9-c19a-4e2b-9f98-86c8cd28a0fc",
   "metadata": {},
   "outputs": [
    {
     "data": {
      "text/html": [
       "<div>\n",
       "<style scoped>\n",
       "    .dataframe tbody tr th:only-of-type {\n",
       "        vertical-align: middle;\n",
       "    }\n",
       "\n",
       "    .dataframe tbody tr th {\n",
       "        vertical-align: top;\n",
       "    }\n",
       "\n",
       "    .dataframe thead th {\n",
       "        text-align: right;\n",
       "    }\n",
       "</style>\n",
       "<table border=\"1\" class=\"dataframe\">\n",
       "  <thead>\n",
       "    <tr style=\"text-align: right;\">\n",
       "      <th></th>\n",
       "      <th>mean_fit_time</th>\n",
       "      <th>std_fit_time</th>\n",
       "      <th>mean_score_time</th>\n",
       "      <th>std_score_time</th>\n",
       "      <th>param_C</th>\n",
       "      <th>param_kernel</th>\n",
       "      <th>param_shrinking</th>\n",
       "      <th>params</th>\n",
       "      <th>split0_test_score</th>\n",
       "      <th>split1_test_score</th>\n",
       "      <th>split2_test_score</th>\n",
       "      <th>mean_test_score</th>\n",
       "      <th>std_test_score</th>\n",
       "      <th>rank_test_score</th>\n",
       "    </tr>\n",
       "  </thead>\n",
       "  <tbody>\n",
       "    <tr>\n",
       "      <th>0</th>\n",
       "      <td>0.140924</td>\n",
       "      <td>0.013254</td>\n",
       "      <td>0.025197</td>\n",
       "      <td>0.004169</td>\n",
       "      <td>0.001</td>\n",
       "      <td>rbf</td>\n",
       "      <td>True</td>\n",
       "      <td>{'C': 0.001, 'kernel': 'rbf', 'shrinking': True}</td>\n",
       "      <td>0.502994</td>\n",
       "      <td>0.501502</td>\n",
       "      <td>0.501502</td>\n",
       "      <td>0.501999</td>\n",
       "      <td>0.000704</td>\n",
       "      <td>41</td>\n",
       "    </tr>\n",
       "    <tr>\n",
       "      <th>1</th>\n",
       "      <td>0.140233</td>\n",
       "      <td>0.016872</td>\n",
       "      <td>0.023156</td>\n",
       "      <td>0.001520</td>\n",
       "      <td>0.001</td>\n",
       "      <td>rbf</td>\n",
       "      <td>False</td>\n",
       "      <td>{'C': 0.001, 'kernel': 'rbf', 'shrinking': False}</td>\n",
       "      <td>0.502994</td>\n",
       "      <td>0.501502</td>\n",
       "      <td>0.501502</td>\n",
       "      <td>0.501999</td>\n",
       "      <td>0.000704</td>\n",
       "      <td>41</td>\n",
       "    </tr>\n",
       "    <tr>\n",
       "      <th>2</th>\n",
       "      <td>0.077901</td>\n",
       "      <td>0.003988</td>\n",
       "      <td>0.008780</td>\n",
       "      <td>0.003934</td>\n",
       "      <td>0.001</td>\n",
       "      <td>poly</td>\n",
       "      <td>True</td>\n",
       "      <td>{'C': 0.001, 'kernel': 'poly', 'shrinking': True}</td>\n",
       "      <td>0.502994</td>\n",
       "      <td>0.501502</td>\n",
       "      <td>0.501502</td>\n",
       "      <td>0.501999</td>\n",
       "      <td>0.000704</td>\n",
       "      <td>41</td>\n",
       "    </tr>\n",
       "    <tr>\n",
       "      <th>3</th>\n",
       "      <td>0.094517</td>\n",
       "      <td>0.008950</td>\n",
       "      <td>0.006942</td>\n",
       "      <td>0.001420</td>\n",
       "      <td>0.001</td>\n",
       "      <td>poly</td>\n",
       "      <td>False</td>\n",
       "      <td>{'C': 0.001, 'kernel': 'poly', 'shrinking': Fa...</td>\n",
       "      <td>0.502994</td>\n",
       "      <td>0.501502</td>\n",
       "      <td>0.501502</td>\n",
       "      <td>0.501999</td>\n",
       "      <td>0.000704</td>\n",
       "      <td>41</td>\n",
       "    </tr>\n",
       "    <tr>\n",
       "      <th>4</th>\n",
       "      <td>0.119207</td>\n",
       "      <td>0.003276</td>\n",
       "      <td>0.009717</td>\n",
       "      <td>0.001421</td>\n",
       "      <td>0.001</td>\n",
       "      <td>sigmoid</td>\n",
       "      <td>True</td>\n",
       "      <td>{'C': 0.001, 'kernel': 'sigmoid', 'shrinking':...</td>\n",
       "      <td>0.502994</td>\n",
       "      <td>0.501502</td>\n",
       "      <td>0.501502</td>\n",
       "      <td>0.501999</td>\n",
       "      <td>0.000704</td>\n",
       "      <td>41</td>\n",
       "    </tr>\n",
       "  </tbody>\n",
       "</table>\n",
       "</div>"
      ],
      "text/plain": [
       "   mean_fit_time  std_fit_time  mean_score_time  std_score_time param_C  \\\n",
       "0       0.140924      0.013254         0.025197        0.004169   0.001   \n",
       "1       0.140233      0.016872         0.023156        0.001520   0.001   \n",
       "2       0.077901      0.003988         0.008780        0.003934   0.001   \n",
       "3       0.094517      0.008950         0.006942        0.001420   0.001   \n",
       "4       0.119207      0.003276         0.009717        0.001421   0.001   \n",
       "\n",
       "  param_kernel param_shrinking  \\\n",
       "0          rbf            True   \n",
       "1          rbf           False   \n",
       "2         poly            True   \n",
       "3         poly           False   \n",
       "4      sigmoid            True   \n",
       "\n",
       "                                              params  split0_test_score  \\\n",
       "0   {'C': 0.001, 'kernel': 'rbf', 'shrinking': True}           0.502994   \n",
       "1  {'C': 0.001, 'kernel': 'rbf', 'shrinking': False}           0.502994   \n",
       "2  {'C': 0.001, 'kernel': 'poly', 'shrinking': True}           0.502994   \n",
       "3  {'C': 0.001, 'kernel': 'poly', 'shrinking': Fa...           0.502994   \n",
       "4  {'C': 0.001, 'kernel': 'sigmoid', 'shrinking':...           0.502994   \n",
       "\n",
       "   split1_test_score  split2_test_score  mean_test_score  std_test_score  \\\n",
       "0           0.501502           0.501502         0.501999        0.000704   \n",
       "1           0.501502           0.501502         0.501999        0.000704   \n",
       "2           0.501502           0.501502         0.501999        0.000704   \n",
       "3           0.501502           0.501502         0.501999        0.000704   \n",
       "4           0.501502           0.501502         0.501999        0.000704   \n",
       "\n",
       "   rank_test_score  \n",
       "0               41  \n",
       "1               41  \n",
       "2               41  \n",
       "3               41  \n",
       "4               41  "
      ]
     },
     "execution_count": 266,
     "metadata": {},
     "output_type": "execute_result"
    }
   ],
   "source": [
    "pd.DataFrame(grid_search.cv_results_).head()"
   ]
  },
  {
   "cell_type": "markdown",
   "id": "9371204d-94aa-468d-8552-28e2918917ca",
   "metadata": {},
   "source": [
    "# Experiments"
   ]
  },
  {
   "cell_type": "code",
   "execution_count": 189,
   "id": "b8a17a32-dc09-467c-a7fe-eb1a00b17b3e",
   "metadata": {},
   "outputs": [
    {
     "data": {
      "text/html": [
       "<div>\n",
       "<style scoped>\n",
       "    .dataframe tbody tr th:only-of-type {\n",
       "        vertical-align: middle;\n",
       "    }\n",
       "\n",
       "    .dataframe tbody tr th {\n",
       "        vertical-align: top;\n",
       "    }\n",
       "\n",
       "    .dataframe thead th {\n",
       "        text-align: right;\n",
       "    }\n",
       "</style>\n",
       "<table border=\"1\" class=\"dataframe\">\n",
       "  <thead>\n",
       "    <tr style=\"text-align: right;\">\n",
       "      <th></th>\n",
       "      <th>col1</th>\n",
       "      <th>col2</th>\n",
       "    </tr>\n",
       "  </thead>\n",
       "  <tbody>\n",
       "    <tr>\n",
       "      <th>0</th>\n",
       "      <td>[1.0, 2.0]</td>\n",
       "      <td>[5, 6]</td>\n",
       "    </tr>\n",
       "    <tr>\n",
       "      <th>1</th>\n",
       "      <td>[3.0, 4.0]</td>\n",
       "      <td>[7, 8]</td>\n",
       "    </tr>\n",
       "  </tbody>\n",
       "</table>\n",
       "</div>"
      ],
      "text/plain": [
       "         col1    col2\n",
       "0  [1.0, 2.0]  [5, 6]\n",
       "1  [3.0, 4.0]  [7, 8]"
      ]
     },
     "execution_count": 189,
     "metadata": {},
     "output_type": "execute_result"
    }
   ],
   "source": [
    "d = {'col1': [[1.0, 2.0], [3.0, 4.0]], 'col2': [[5, 6], [7, 8]]}\n",
    "df = dd.from_pandas(pd.DataFrame(data=d),npartitions=2)\n",
    "df.compute()"
   ]
  },
  {
   "cell_type": "code",
   "execution_count": 190,
   "id": "0640b02c-3d17-457b-a80d-b2aeb1113f21",
   "metadata": {},
   "outputs": [
    {
     "data": {
      "text/plain": [
       "col1    string[pyarrow]\n",
       "col2    string[pyarrow]\n",
       "dtype: object"
      ]
     },
     "execution_count": 190,
     "metadata": {},
     "output_type": "execute_result"
    }
   ],
   "source": [
    "df.dtypes"
   ]
  },
  {
   "cell_type": "code",
   "execution_count": 191,
   "id": "4deb7ef3-810d-41be-99f0-99366387df38",
   "metadata": {},
   "outputs": [
    {
     "data": {
      "text/html": [
       "<div>\n",
       "<style scoped>\n",
       "    .dataframe tbody tr th:only-of-type {\n",
       "        vertical-align: middle;\n",
       "    }\n",
       "\n",
       "    .dataframe tbody tr th {\n",
       "        vertical-align: top;\n",
       "    }\n",
       "\n",
       "    .dataframe thead th {\n",
       "        text-align: right;\n",
       "    }\n",
       "</style>\n",
       "<table border=\"1\" class=\"dataframe\">\n",
       "  <thead>\n",
       "    <tr style=\"text-align: right;\">\n",
       "      <th></th>\n",
       "      <th>col1</th>\n",
       "      <th>col2</th>\n",
       "      <th>col3</th>\n",
       "    </tr>\n",
       "  </thead>\n",
       "  <tbody>\n",
       "    <tr>\n",
       "      <th>0</th>\n",
       "      <td>[1. 2.]</td>\n",
       "      <td>[5 6]</td>\n",
       "      <td>string1</td>\n",
       "    </tr>\n",
       "    <tr>\n",
       "      <th>1</th>\n",
       "      <td>[3. 4.]</td>\n",
       "      <td>[7 8]</td>\n",
       "      <td>string2</td>\n",
       "    </tr>\n",
       "  </tbody>\n",
       "</table>\n",
       "</div>"
      ],
      "text/plain": [
       "      col1   col2     col3\n",
       "0  [1. 2.]  [5 6]  string1\n",
       "1  [3. 4.]  [7 8]  string2"
      ]
     },
     "execution_count": 191,
     "metadata": {},
     "output_type": "execute_result"
    }
   ],
   "source": [
    "d = {'col1': [np.array([1.0, 2.0]), np.array([3.0, 4.0])], 'col2': [np.array([5, 6]), np.array([7, 8])], 'col3':['string1','string2']}\n",
    "df = dd.from_pandas(pd.DataFrame(data=d),npartitions=2)\n",
    "df.compute()"
   ]
  },
  {
   "cell_type": "code",
   "execution_count": 192,
   "id": "c4753791-e4b9-48f9-a67a-ad3513ca5b02",
   "metadata": {},
   "outputs": [
    {
     "data": {
      "text/plain": [
       "col1    string[pyarrow]\n",
       "col2    string[pyarrow]\n",
       "col3    string[pyarrow]\n",
       "dtype: object"
      ]
     },
     "execution_count": 192,
     "metadata": {},
     "output_type": "execute_result"
    }
   ],
   "source": [
    "df.dtypes"
   ]
  },
  {
   "cell_type": "code",
   "execution_count": 193,
   "id": "a07501ba-7972-48be-bf76-a2a9ee005994",
   "metadata": {},
   "outputs": [
    {
     "data": {
      "text/plain": [
       "array([1, 2])"
      ]
     },
     "execution_count": 193,
     "metadata": {},
     "output_type": "execute_result"
    }
   ],
   "source": [
    "np.array([1,2])"
   ]
  },
  {
   "cell_type": "code",
   "execution_count": 194,
   "id": "03dfa53e-512a-45c4-9f79-9ecbc8a066df",
   "metadata": {},
   "outputs": [],
   "source": [
    "def func1(string:str)->int:\n",
    "    return 1"
   ]
  },
  {
   "cell_type": "code",
   "execution_count": 195,
   "id": "ed096a91-7895-4233-9bf0-3779225e73f7",
   "metadata": {},
   "outputs": [
    {
     "data": {
      "text/plain": [
       "1"
      ]
     },
     "execution_count": 195,
     "metadata": {},
     "output_type": "execute_result"
    }
   ],
   "source": [
    "func1('rererer')"
   ]
  },
  {
   "cell_type": "code",
   "execution_count": 196,
   "id": "c414a61a-3e10-4a07-9c3f-53e7b112df52",
   "metadata": {},
   "outputs": [],
   "source": [
    "#df['test1'],df['test2'] = zip(*df['col3'].apply(lambda path: func1(path), meta={'test1':'str','test2':'int'}))\n",
    "df['test1'] = df['col3'].apply(lambda path: func1(path), meta=pd.Series(dtype='int', name='test1'))"
   ]
  },
  {
   "cell_type": "code",
   "execution_count": 197,
   "id": "97af88ec-4536-4a93-9d53-97d3069fc80b",
   "metadata": {},
   "outputs": [
    {
     "data": {
      "text/html": [
       "<div>\n",
       "<style scoped>\n",
       "    .dataframe tbody tr th:only-of-type {\n",
       "        vertical-align: middle;\n",
       "    }\n",
       "\n",
       "    .dataframe tbody tr th {\n",
       "        vertical-align: top;\n",
       "    }\n",
       "\n",
       "    .dataframe thead th {\n",
       "        text-align: right;\n",
       "    }\n",
       "</style>\n",
       "<table border=\"1\" class=\"dataframe\">\n",
       "  <thead>\n",
       "    <tr style=\"text-align: right;\">\n",
       "      <th></th>\n",
       "      <th>col1</th>\n",
       "      <th>col2</th>\n",
       "      <th>col3</th>\n",
       "      <th>test1</th>\n",
       "    </tr>\n",
       "  </thead>\n",
       "  <tbody>\n",
       "    <tr>\n",
       "      <th>0</th>\n",
       "      <td>[1. 2.]</td>\n",
       "      <td>[5 6]</td>\n",
       "      <td>string1</td>\n",
       "      <td>1</td>\n",
       "    </tr>\n",
       "    <tr>\n",
       "      <th>1</th>\n",
       "      <td>[3. 4.]</td>\n",
       "      <td>[7 8]</td>\n",
       "      <td>string2</td>\n",
       "      <td>1</td>\n",
       "    </tr>\n",
       "  </tbody>\n",
       "</table>\n",
       "</div>"
      ],
      "text/plain": [
       "      col1   col2     col3  test1\n",
       "0  [1. 2.]  [5 6]  string1      1\n",
       "1  [3. 4.]  [7 8]  string2      1"
      ]
     },
     "execution_count": 197,
     "metadata": {},
     "output_type": "execute_result"
    }
   ],
   "source": [
    "df.compute()"
   ]
  },
  {
   "cell_type": "code",
   "execution_count": 198,
   "id": "6afc9af6-09b5-46f4-a86a-e9f1b38a210a",
   "metadata": {},
   "outputs": [
    {
     "data": {
      "text/plain": [
       "col1     string[pyarrow]\n",
       "col2     string[pyarrow]\n",
       "col3     string[pyarrow]\n",
       "test1              int32\n",
       "dtype: object"
      ]
     },
     "execution_count": 198,
     "metadata": {},
     "output_type": "execute_result"
    }
   ],
   "source": [
    "df.dtypes"
   ]
  },
  {
   "cell_type": "code",
   "execution_count": 218,
   "id": "144bbeff-48c0-4a01-90cc-4acaed354d58",
   "metadata": {},
   "outputs": [],
   "source": [
    "def func2(arr:np.ndarray)->np.ndarray:\n",
    "    new_arr = arr + np.array([10.0,10.0])\n",
    "    return new_arr"
   ]
  },
  {
   "cell_type": "code",
   "execution_count": 219,
   "id": "e1c5ed1c-e011-435e-a13b-0316c9640423",
   "metadata": {},
   "outputs": [
    {
     "data": {
      "text/plain": [
       "array([11., 11.])"
      ]
     },
     "execution_count": 219,
     "metadata": {},
     "output_type": "execute_result"
    }
   ],
   "source": [
    "func2(np.array([1,1]))"
   ]
  },
  {
   "cell_type": "code",
   "execution_count": 208,
   "id": "7b1b4e01-87be-4d17-9476-9bbd0f9101c6",
   "metadata": {},
   "outputs": [],
   "source": [
    "df['test2'] = df['col1'].apply(lambda arr: func2(arr), meta=pd.Series(dtype='string[pyarrow]', name='test2'))\n",
    "#dtype='pyarrow.from_numpy_dtype(np.dtype(\"float32\"))'"
   ]
  },
  {
   "cell_type": "code",
   "execution_count": 217,
   "id": "c7fb8d29-af62-49b2-afce-d95c597bea81",
   "metadata": {
    "scrolled": true
   },
   "outputs": [],
   "source": [
    "#df.compute()"
   ]
  },
  {
   "cell_type": "code",
   "execution_count": 221,
   "id": "ab4de58f-71b8-4c31-967f-f72026603ce1",
   "metadata": {},
   "outputs": [
    {
     "data": {
      "text/plain": [
       "array([1, 1])"
      ]
     },
     "execution_count": 221,
     "metadata": {},
     "output_type": "execute_result"
    }
   ],
   "source": [
    "b = np.array([1,1])\n",
    "b"
   ]
  },
  {
   "cell_type": "code",
   "execution_count": 222,
   "id": "e84a2e80-fa4f-4e1e-bdc6-9839c322a1d1",
   "metadata": {},
   "outputs": [],
   "source": [
    "x = da.from_array(b)"
   ]
  },
  {
   "cell_type": "code",
   "execution_count": 223,
   "id": "4b74e961-d938-431f-b5e5-be0324def1d6",
   "metadata": {},
   "outputs": [
    {
     "data": {
      "text/html": [
       "<table>\n",
       "    <tr>\n",
       "        <td>\n",
       "            <table style=\"border-collapse: collapse;\">\n",
       "                <thead>\n",
       "                    <tr>\n",
       "                        <td> </td>\n",
       "                        <th> Array </th>\n",
       "                        <th> Chunk </th>\n",
       "                    </tr>\n",
       "                </thead>\n",
       "                <tbody>\n",
       "                    \n",
       "                    <tr>\n",
       "                        <th> Bytes </th>\n",
       "                        <td> 8 B </td>\n",
       "                        <td> 8 B </td>\n",
       "                    </tr>\n",
       "                    \n",
       "                    <tr>\n",
       "                        <th> Shape </th>\n",
       "                        <td> (2,) </td>\n",
       "                        <td> (2,) </td>\n",
       "                    </tr>\n",
       "                    <tr>\n",
       "                        <th> Dask graph </th>\n",
       "                        <td colspan=\"2\"> 1 chunks in 1 graph layer </td>\n",
       "                    </tr>\n",
       "                    <tr>\n",
       "                        <th> Data type </th>\n",
       "                        <td colspan=\"2\"> int32 numpy.ndarray </td>\n",
       "                    </tr>\n",
       "                </tbody>\n",
       "            </table>\n",
       "        </td>\n",
       "        <td>\n",
       "        <svg width=\"170\" height=\"110\" style=\"stroke:rgb(0,0,0);stroke-width:1\" >\n",
       "\n",
       "  <!-- Horizontal lines -->\n",
       "  <line x1=\"0\" y1=\"0\" x2=\"120\" y2=\"0\" style=\"stroke-width:2\" />\n",
       "  <line x1=\"0\" y1=\"60\" x2=\"120\" y2=\"60\" style=\"stroke-width:2\" />\n",
       "\n",
       "  <!-- Vertical lines -->\n",
       "  <line x1=\"0\" y1=\"0\" x2=\"0\" y2=\"60\" style=\"stroke-width:2\" />\n",
       "  <line x1=\"120\" y1=\"0\" x2=\"120\" y2=\"60\" style=\"stroke-width:2\" />\n",
       "\n",
       "  <!-- Colored Rectangle -->\n",
       "  <polygon points=\"0.0,0.0 120.0,0.0 120.0,60.0 0.0,60.0\" style=\"fill:#ECB172A0;stroke-width:0\"/>\n",
       "\n",
       "  <!-- Text -->\n",
       "  <text x=\"60.000000\" y=\"80.000000\" font-size=\"1.0rem\" font-weight=\"100\" text-anchor=\"middle\" >2</text>\n",
       "  <text x=\"140.000000\" y=\"30.000000\" font-size=\"1.0rem\" font-weight=\"100\" text-anchor=\"middle\" transform=\"rotate(0,140.000000,30.000000)\">1</text>\n",
       "</svg>\n",
       "        </td>\n",
       "    </tr>\n",
       "</table>"
      ],
      "text/plain": [
       "dask.array<array, shape=(2,), dtype=int32, chunksize=(2,), chunktype=numpy.ndarray>"
      ]
     },
     "execution_count": 223,
     "metadata": {},
     "output_type": "execute_result"
    }
   ],
   "source": [
    "x"
   ]
  },
  {
   "cell_type": "code",
   "execution_count": 224,
   "id": "f156f68c-8795-4fd2-9bc7-367ecd9fc5df",
   "metadata": {},
   "outputs": [
    {
     "data": {
      "text/plain": [
       "array([1, 1])"
      ]
     },
     "execution_count": 224,
     "metadata": {},
     "output_type": "execute_result"
    }
   ],
   "source": [
    "x.compute()"
   ]
  },
  {
   "cell_type": "code",
   "execution_count": 225,
   "id": "621c61f5-a530-4300-b01d-bc81245651df",
   "metadata": {},
   "outputs": [],
   "source": [
    "y = da.asarray(b)"
   ]
  },
  {
   "cell_type": "code",
   "execution_count": 226,
   "id": "7e43f330-afd0-4202-9f38-0436fa38e52b",
   "metadata": {},
   "outputs": [
    {
     "data": {
      "text/html": [
       "<table>\n",
       "    <tr>\n",
       "        <td>\n",
       "            <table style=\"border-collapse: collapse;\">\n",
       "                <thead>\n",
       "                    <tr>\n",
       "                        <td> </td>\n",
       "                        <th> Array </th>\n",
       "                        <th> Chunk </th>\n",
       "                    </tr>\n",
       "                </thead>\n",
       "                <tbody>\n",
       "                    \n",
       "                    <tr>\n",
       "                        <th> Bytes </th>\n",
       "                        <td> 8 B </td>\n",
       "                        <td> 8 B </td>\n",
       "                    </tr>\n",
       "                    \n",
       "                    <tr>\n",
       "                        <th> Shape </th>\n",
       "                        <td> (2,) </td>\n",
       "                        <td> (2,) </td>\n",
       "                    </tr>\n",
       "                    <tr>\n",
       "                        <th> Dask graph </th>\n",
       "                        <td colspan=\"2\"> 1 chunks in 1 graph layer </td>\n",
       "                    </tr>\n",
       "                    <tr>\n",
       "                        <th> Data type </th>\n",
       "                        <td colspan=\"2\"> int32 numpy.ndarray </td>\n",
       "                    </tr>\n",
       "                </tbody>\n",
       "            </table>\n",
       "        </td>\n",
       "        <td>\n",
       "        <svg width=\"170\" height=\"110\" style=\"stroke:rgb(0,0,0);stroke-width:1\" >\n",
       "\n",
       "  <!-- Horizontal lines -->\n",
       "  <line x1=\"0\" y1=\"0\" x2=\"120\" y2=\"0\" style=\"stroke-width:2\" />\n",
       "  <line x1=\"0\" y1=\"60\" x2=\"120\" y2=\"60\" style=\"stroke-width:2\" />\n",
       "\n",
       "  <!-- Vertical lines -->\n",
       "  <line x1=\"0\" y1=\"0\" x2=\"0\" y2=\"60\" style=\"stroke-width:2\" />\n",
       "  <line x1=\"120\" y1=\"0\" x2=\"120\" y2=\"60\" style=\"stroke-width:2\" />\n",
       "\n",
       "  <!-- Colored Rectangle -->\n",
       "  <polygon points=\"0.0,0.0 120.0,0.0 120.0,60.0 0.0,60.0\" style=\"fill:#ECB172A0;stroke-width:0\"/>\n",
       "\n",
       "  <!-- Text -->\n",
       "  <text x=\"60.000000\" y=\"80.000000\" font-size=\"1.0rem\" font-weight=\"100\" text-anchor=\"middle\" >2</text>\n",
       "  <text x=\"140.000000\" y=\"30.000000\" font-size=\"1.0rem\" font-weight=\"100\" text-anchor=\"middle\" transform=\"rotate(0,140.000000,30.000000)\">1</text>\n",
       "</svg>\n",
       "        </td>\n",
       "    </tr>\n",
       "</table>"
      ],
      "text/plain": [
       "dask.array<array, shape=(2,), dtype=int32, chunksize=(2,), chunktype=numpy.ndarray>"
      ]
     },
     "execution_count": 226,
     "metadata": {},
     "output_type": "execute_result"
    }
   ],
   "source": [
    "y"
   ]
  },
  {
   "cell_type": "code",
   "execution_count": 228,
   "id": "d6b491b1-f04f-4df8-8dc6-89180a24c38e",
   "metadata": {},
   "outputs": [
    {
     "data": {
      "text/plain": [
       "array([ True,  True])"
      ]
     },
     "execution_count": 228,
     "metadata": {},
     "output_type": "execute_result"
    }
   ],
   "source": [
    "(y == x).compute()"
   ]
  },
  {
   "cell_type": "code",
   "execution_count": 229,
   "id": "baa96924-cc18-4832-bbbd-a3cc530d33d1",
   "metadata": {},
   "outputs": [],
   "source": [
    "z = x.compute()"
   ]
  },
  {
   "cell_type": "code",
   "execution_count": 230,
   "id": "ad02e75f-e305-4fb0-87a1-fc343fd878a1",
   "metadata": {},
   "outputs": [
    {
     "data": {
      "text/plain": [
       "array([1, 1])"
      ]
     },
     "execution_count": 230,
     "metadata": {},
     "output_type": "execute_result"
    }
   ],
   "source": [
    "z"
   ]
  },
  {
   "cell_type": "code",
   "execution_count": 231,
   "id": "e6733704-0844-4320-9e05-09da1d58a211",
   "metadata": {},
   "outputs": [
    {
     "data": {
      "text/plain": [
       "numpy.ndarray"
      ]
     },
     "execution_count": 231,
     "metadata": {},
     "output_type": "execute_result"
    }
   ],
   "source": [
    "type(z)"
   ]
  },
  {
   "cell_type": "code",
   "execution_count": 232,
   "id": "85267d7a-98a5-4b28-b3e0-e9ca47cc5653",
   "metadata": {},
   "outputs": [
    {
     "data": {
      "text/plain": [
       "dask.array.core.Array"
      ]
     },
     "execution_count": 232,
     "metadata": {},
     "output_type": "execute_result"
    }
   ],
   "source": [
    "type(y)"
   ]
  },
  {
   "cell_type": "code",
   "execution_count": 233,
   "id": "4ddc68fc-46bb-47f5-b5aa-fccc1644175b",
   "metadata": {},
   "outputs": [
    {
     "data": {
      "text/plain": [
       "array([[1., 1., 1.],\n",
       "       [1., 1., 1.],\n",
       "       [1., 1., 1.]])"
      ]
     },
     "execution_count": 233,
     "metadata": {},
     "output_type": "execute_result"
    }
   ],
   "source": [
    "c = np.ones((3, 3))\n",
    "c"
   ]
  },
  {
   "cell_type": "code",
   "execution_count": 235,
   "id": "0b1e1f2c-ce0f-4124-908e-7939c0b33744",
   "metadata": {},
   "outputs": [],
   "source": [
    "x2 = da.asarray(c) "
   ]
  },
  {
   "cell_type": "code",
   "execution_count": 236,
   "id": "8c9e6e59-b3f6-45e8-8b8a-d1b1d0bdff5b",
   "metadata": {},
   "outputs": [
    {
     "data": {
      "text/html": [
       "<table>\n",
       "    <tr>\n",
       "        <td>\n",
       "            <table style=\"border-collapse: collapse;\">\n",
       "                <thead>\n",
       "                    <tr>\n",
       "                        <td> </td>\n",
       "                        <th> Array </th>\n",
       "                        <th> Chunk </th>\n",
       "                    </tr>\n",
       "                </thead>\n",
       "                <tbody>\n",
       "                    \n",
       "                    <tr>\n",
       "                        <th> Bytes </th>\n",
       "                        <td> 72 B </td>\n",
       "                        <td> 72 B </td>\n",
       "                    </tr>\n",
       "                    \n",
       "                    <tr>\n",
       "                        <th> Shape </th>\n",
       "                        <td> (3, 3) </td>\n",
       "                        <td> (3, 3) </td>\n",
       "                    </tr>\n",
       "                    <tr>\n",
       "                        <th> Dask graph </th>\n",
       "                        <td colspan=\"2\"> 1 chunks in 1 graph layer </td>\n",
       "                    </tr>\n",
       "                    <tr>\n",
       "                        <th> Data type </th>\n",
       "                        <td colspan=\"2\"> float64 numpy.ndarray </td>\n",
       "                    </tr>\n",
       "                </tbody>\n",
       "            </table>\n",
       "        </td>\n",
       "        <td>\n",
       "        <svg width=\"170\" height=\"170\" style=\"stroke:rgb(0,0,0);stroke-width:1\" >\n",
       "\n",
       "  <!-- Horizontal lines -->\n",
       "  <line x1=\"0\" y1=\"0\" x2=\"120\" y2=\"0\" style=\"stroke-width:2\" />\n",
       "  <line x1=\"0\" y1=\"120\" x2=\"120\" y2=\"120\" style=\"stroke-width:2\" />\n",
       "\n",
       "  <!-- Vertical lines -->\n",
       "  <line x1=\"0\" y1=\"0\" x2=\"0\" y2=\"120\" style=\"stroke-width:2\" />\n",
       "  <line x1=\"120\" y1=\"0\" x2=\"120\" y2=\"120\" style=\"stroke-width:2\" />\n",
       "\n",
       "  <!-- Colored Rectangle -->\n",
       "  <polygon points=\"0.0,0.0 120.0,0.0 120.0,120.0 0.0,120.0\" style=\"fill:#ECB172A0;stroke-width:0\"/>\n",
       "\n",
       "  <!-- Text -->\n",
       "  <text x=\"60.000000\" y=\"140.000000\" font-size=\"1.0rem\" font-weight=\"100\" text-anchor=\"middle\" >3</text>\n",
       "  <text x=\"140.000000\" y=\"60.000000\" font-size=\"1.0rem\" font-weight=\"100\" text-anchor=\"middle\" transform=\"rotate(0,140.000000,60.000000)\">3</text>\n",
       "</svg>\n",
       "        </td>\n",
       "    </tr>\n",
       "</table>"
      ],
      "text/plain": [
       "dask.array<array, shape=(3, 3), dtype=float64, chunksize=(3, 3), chunktype=numpy.ndarray>"
      ]
     },
     "execution_count": 236,
     "metadata": {},
     "output_type": "execute_result"
    }
   ],
   "source": [
    "x2"
   ]
  },
  {
   "cell_type": "code",
   "execution_count": 237,
   "id": "c0c51655-9d8c-44c2-9d4a-acf01e17b052",
   "metadata": {},
   "outputs": [
    {
     "data": {
      "text/plain": [
       "array([[1., 1., 1.],\n",
       "       [1., 1., 1.],\n",
       "       [1., 1., 1.]])"
      ]
     },
     "execution_count": 237,
     "metadata": {},
     "output_type": "execute_result"
    }
   ],
   "source": [
    "x2.compute()"
   ]
  },
  {
   "cell_type": "code",
   "execution_count": 238,
   "id": "93229afe-a06e-4bbe-baba-4c4a3b07d026",
   "metadata": {},
   "outputs": [
    {
     "data": {
      "text/plain": [
       "array([[[1., 1.],\n",
       "        [1., 1.],\n",
       "        [1., 1.]],\n",
       "\n",
       "       [[1., 1.],\n",
       "        [1., 1.],\n",
       "        [1., 1.]],\n",
       "\n",
       "       [[1., 1.],\n",
       "        [1., 1.],\n",
       "        [1., 1.]]])"
      ]
     },
     "execution_count": 238,
     "metadata": {},
     "output_type": "execute_result"
    }
   ],
   "source": [
    "d = np.ones((3, 3, 2))\n",
    "d"
   ]
  },
  {
   "cell_type": "code",
   "execution_count": 239,
   "id": "b9b0c2d0-25a2-4cbe-bf63-014433f7fbfa",
   "metadata": {},
   "outputs": [],
   "source": [
    "x3 = da.asarray(d)"
   ]
  },
  {
   "cell_type": "code",
   "execution_count": 240,
   "id": "0047c271-f9ce-41cd-8238-cd4ae0a38aca",
   "metadata": {},
   "outputs": [
    {
     "data": {
      "text/html": [
       "<table>\n",
       "    <tr>\n",
       "        <td>\n",
       "            <table style=\"border-collapse: collapse;\">\n",
       "                <thead>\n",
       "                    <tr>\n",
       "                        <td> </td>\n",
       "                        <th> Array </th>\n",
       "                        <th> Chunk </th>\n",
       "                    </tr>\n",
       "                </thead>\n",
       "                <tbody>\n",
       "                    \n",
       "                    <tr>\n",
       "                        <th> Bytes </th>\n",
       "                        <td> 144 B </td>\n",
       "                        <td> 144 B </td>\n",
       "                    </tr>\n",
       "                    \n",
       "                    <tr>\n",
       "                        <th> Shape </th>\n",
       "                        <td> (3, 3, 2) </td>\n",
       "                        <td> (3, 3, 2) </td>\n",
       "                    </tr>\n",
       "                    <tr>\n",
       "                        <th> Dask graph </th>\n",
       "                        <td colspan=\"2\"> 1 chunks in 1 graph layer </td>\n",
       "                    </tr>\n",
       "                    <tr>\n",
       "                        <th> Data type </th>\n",
       "                        <td colspan=\"2\"> float64 numpy.ndarray </td>\n",
       "                    </tr>\n",
       "                </tbody>\n",
       "            </table>\n",
       "        </td>\n",
       "        <td>\n",
       "        <svg width=\"210\" height=\"240\" style=\"stroke:rgb(0,0,0);stroke-width:1\" >\n",
       "\n",
       "  <!-- Horizontal lines -->\n",
       "  <line x1=\"10\" y1=\"0\" x2=\"80\" y2=\"70\" style=\"stroke-width:2\" />\n",
       "  <line x1=\"10\" y1=\"120\" x2=\"80\" y2=\"190\" style=\"stroke-width:2\" />\n",
       "\n",
       "  <!-- Vertical lines -->\n",
       "  <line x1=\"10\" y1=\"0\" x2=\"10\" y2=\"120\" style=\"stroke-width:2\" />\n",
       "  <line x1=\"80\" y1=\"70\" x2=\"80\" y2=\"190\" style=\"stroke-width:2\" />\n",
       "\n",
       "  <!-- Colored Rectangle -->\n",
       "  <polygon points=\"10.0,0.0 80.58823529411765,70.58823529411765 80.58823529411765,190.58823529411765 10.0,120.0\" style=\"fill:#ECB172A0;stroke-width:0\"/>\n",
       "\n",
       "  <!-- Horizontal lines -->\n",
       "  <line x1=\"10\" y1=\"0\" x2=\"90\" y2=\"0\" style=\"stroke-width:2\" />\n",
       "  <line x1=\"80\" y1=\"70\" x2=\"160\" y2=\"70\" style=\"stroke-width:2\" />\n",
       "\n",
       "  <!-- Vertical lines -->\n",
       "  <line x1=\"10\" y1=\"0\" x2=\"80\" y2=\"70\" style=\"stroke-width:2\" />\n",
       "  <line x1=\"90\" y1=\"0\" x2=\"160\" y2=\"70\" style=\"stroke-width:2\" />\n",
       "\n",
       "  <!-- Colored Rectangle -->\n",
       "  <polygon points=\"10.0,0.0 90.0,0.0 160.58823529411765,70.58823529411765 80.58823529411765,70.58823529411765\" style=\"fill:#ECB172A0;stroke-width:0\"/>\n",
       "\n",
       "  <!-- Horizontal lines -->\n",
       "  <line x1=\"80\" y1=\"70\" x2=\"160\" y2=\"70\" style=\"stroke-width:2\" />\n",
       "  <line x1=\"80\" y1=\"190\" x2=\"160\" y2=\"190\" style=\"stroke-width:2\" />\n",
       "\n",
       "  <!-- Vertical lines -->\n",
       "  <line x1=\"80\" y1=\"70\" x2=\"80\" y2=\"190\" style=\"stroke-width:2\" />\n",
       "  <line x1=\"160\" y1=\"70\" x2=\"160\" y2=\"190\" style=\"stroke-width:2\" />\n",
       "\n",
       "  <!-- Colored Rectangle -->\n",
       "  <polygon points=\"80.58823529411765,70.58823529411765 160.58823529411765,70.58823529411765 160.58823529411765,190.58823529411765 80.58823529411765,190.58823529411765\" style=\"fill:#ECB172A0;stroke-width:0\"/>\n",
       "\n",
       "  <!-- Text -->\n",
       "  <text x=\"120.588235\" y=\"210.588235\" font-size=\"1.0rem\" font-weight=\"100\" text-anchor=\"middle\" >2</text>\n",
       "  <text x=\"180.588235\" y=\"130.588235\" font-size=\"1.0rem\" font-weight=\"100\" text-anchor=\"middle\" transform=\"rotate(0,180.588235,130.588235)\">3</text>\n",
       "  <text x=\"35.294118\" y=\"175.294118\" font-size=\"1.0rem\" font-weight=\"100\" text-anchor=\"middle\" transform=\"rotate(45,35.294118,175.294118)\">3</text>\n",
       "</svg>\n",
       "        </td>\n",
       "    </tr>\n",
       "</table>"
      ],
      "text/plain": [
       "dask.array<array, shape=(3, 3, 2), dtype=float64, chunksize=(3, 3, 2), chunktype=numpy.ndarray>"
      ]
     },
     "execution_count": 240,
     "metadata": {},
     "output_type": "execute_result"
    }
   ],
   "source": [
    "x3"
   ]
  },
  {
   "cell_type": "code",
   "execution_count": 241,
   "id": "556ccf13-28b5-4b72-9135-10451e475f23",
   "metadata": {},
   "outputs": [
    {
     "data": {
      "text/plain": [
       "array([[[1., 1.],\n",
       "        [1., 1.],\n",
       "        [1., 1.]],\n",
       "\n",
       "       [[1., 1.],\n",
       "        [1., 1.],\n",
       "        [1., 1.]],\n",
       "\n",
       "       [[1., 1.],\n",
       "        [1., 1.],\n",
       "        [1., 1.]]])"
      ]
     },
     "execution_count": 241,
     "metadata": {},
     "output_type": "execute_result"
    }
   ],
   "source": [
    "x3.compute()"
   ]
  },
  {
   "cell_type": "code",
   "execution_count": 244,
   "id": "97e5d872-259e-4b65-9bc8-8acfdee2af46",
   "metadata": {},
   "outputs": [],
   "source": [
    "x4 = da.asarray(np.ones((3, 3, 2))*2)"
   ]
  },
  {
   "cell_type": "code",
   "execution_count": 245,
   "id": "8a7e2d21-3ba3-40c5-9d29-04a40f218a0d",
   "metadata": {},
   "outputs": [],
   "source": [
    "x5 = x4+x3"
   ]
  },
  {
   "cell_type": "code",
   "execution_count": 246,
   "id": "3fde1d6c-a01d-4795-a785-f8b78aa388b4",
   "metadata": {},
   "outputs": [
    {
     "data": {
      "text/html": [
       "<table>\n",
       "    <tr>\n",
       "        <td>\n",
       "            <table style=\"border-collapse: collapse;\">\n",
       "                <thead>\n",
       "                    <tr>\n",
       "                        <td> </td>\n",
       "                        <th> Array </th>\n",
       "                        <th> Chunk </th>\n",
       "                    </tr>\n",
       "                </thead>\n",
       "                <tbody>\n",
       "                    \n",
       "                    <tr>\n",
       "                        <th> Bytes </th>\n",
       "                        <td> 144 B </td>\n",
       "                        <td> 144 B </td>\n",
       "                    </tr>\n",
       "                    \n",
       "                    <tr>\n",
       "                        <th> Shape </th>\n",
       "                        <td> (3, 3, 2) </td>\n",
       "                        <td> (3, 3, 2) </td>\n",
       "                    </tr>\n",
       "                    <tr>\n",
       "                        <th> Dask graph </th>\n",
       "                        <td colspan=\"2\"> 1 chunks in 3 graph layers </td>\n",
       "                    </tr>\n",
       "                    <tr>\n",
       "                        <th> Data type </th>\n",
       "                        <td colspan=\"2\"> float64 numpy.ndarray </td>\n",
       "                    </tr>\n",
       "                </tbody>\n",
       "            </table>\n",
       "        </td>\n",
       "        <td>\n",
       "        <svg width=\"210\" height=\"240\" style=\"stroke:rgb(0,0,0);stroke-width:1\" >\n",
       "\n",
       "  <!-- Horizontal lines -->\n",
       "  <line x1=\"10\" y1=\"0\" x2=\"80\" y2=\"70\" style=\"stroke-width:2\" />\n",
       "  <line x1=\"10\" y1=\"120\" x2=\"80\" y2=\"190\" style=\"stroke-width:2\" />\n",
       "\n",
       "  <!-- Vertical lines -->\n",
       "  <line x1=\"10\" y1=\"0\" x2=\"10\" y2=\"120\" style=\"stroke-width:2\" />\n",
       "  <line x1=\"80\" y1=\"70\" x2=\"80\" y2=\"190\" style=\"stroke-width:2\" />\n",
       "\n",
       "  <!-- Colored Rectangle -->\n",
       "  <polygon points=\"10.0,0.0 80.58823529411765,70.58823529411765 80.58823529411765,190.58823529411765 10.0,120.0\" style=\"fill:#ECB172A0;stroke-width:0\"/>\n",
       "\n",
       "  <!-- Horizontal lines -->\n",
       "  <line x1=\"10\" y1=\"0\" x2=\"90\" y2=\"0\" style=\"stroke-width:2\" />\n",
       "  <line x1=\"80\" y1=\"70\" x2=\"160\" y2=\"70\" style=\"stroke-width:2\" />\n",
       "\n",
       "  <!-- Vertical lines -->\n",
       "  <line x1=\"10\" y1=\"0\" x2=\"80\" y2=\"70\" style=\"stroke-width:2\" />\n",
       "  <line x1=\"90\" y1=\"0\" x2=\"160\" y2=\"70\" style=\"stroke-width:2\" />\n",
       "\n",
       "  <!-- Colored Rectangle -->\n",
       "  <polygon points=\"10.0,0.0 90.0,0.0 160.58823529411765,70.58823529411765 80.58823529411765,70.58823529411765\" style=\"fill:#ECB172A0;stroke-width:0\"/>\n",
       "\n",
       "  <!-- Horizontal lines -->\n",
       "  <line x1=\"80\" y1=\"70\" x2=\"160\" y2=\"70\" style=\"stroke-width:2\" />\n",
       "  <line x1=\"80\" y1=\"190\" x2=\"160\" y2=\"190\" style=\"stroke-width:2\" />\n",
       "\n",
       "  <!-- Vertical lines -->\n",
       "  <line x1=\"80\" y1=\"70\" x2=\"80\" y2=\"190\" style=\"stroke-width:2\" />\n",
       "  <line x1=\"160\" y1=\"70\" x2=\"160\" y2=\"190\" style=\"stroke-width:2\" />\n",
       "\n",
       "  <!-- Colored Rectangle -->\n",
       "  <polygon points=\"80.58823529411765,70.58823529411765 160.58823529411765,70.58823529411765 160.58823529411765,190.58823529411765 80.58823529411765,190.58823529411765\" style=\"fill:#ECB172A0;stroke-width:0\"/>\n",
       "\n",
       "  <!-- Text -->\n",
       "  <text x=\"120.588235\" y=\"210.588235\" font-size=\"1.0rem\" font-weight=\"100\" text-anchor=\"middle\" >2</text>\n",
       "  <text x=\"180.588235\" y=\"130.588235\" font-size=\"1.0rem\" font-weight=\"100\" text-anchor=\"middle\" transform=\"rotate(0,180.588235,130.588235)\">3</text>\n",
       "  <text x=\"35.294118\" y=\"175.294118\" font-size=\"1.0rem\" font-weight=\"100\" text-anchor=\"middle\" transform=\"rotate(45,35.294118,175.294118)\">3</text>\n",
       "</svg>\n",
       "        </td>\n",
       "    </tr>\n",
       "</table>"
      ],
      "text/plain": [
       "dask.array<add, shape=(3, 3, 2), dtype=float64, chunksize=(3, 3, 2), chunktype=numpy.ndarray>"
      ]
     },
     "execution_count": 246,
     "metadata": {},
     "output_type": "execute_result"
    }
   ],
   "source": [
    "x5"
   ]
  },
  {
   "cell_type": "code",
   "execution_count": 247,
   "id": "1b760b6d-fc5d-496b-9089-a6f76450cec0",
   "metadata": {},
   "outputs": [
    {
     "data": {
      "text/plain": [
       "array([[[3., 3.],\n",
       "        [3., 3.],\n",
       "        [3., 3.]],\n",
       "\n",
       "       [[3., 3.],\n",
       "        [3., 3.],\n",
       "        [3., 3.]],\n",
       "\n",
       "       [[3., 3.],\n",
       "        [3., 3.],\n",
       "        [3., 3.]]])"
      ]
     },
     "execution_count": 247,
     "metadata": {},
     "output_type": "execute_result"
    }
   ],
   "source": [
    "x5.compute()"
   ]
  },
  {
   "cell_type": "code",
   "execution_count": 293,
   "id": "a40281c8-bddc-41c1-b3f9-4085a5d98034",
   "metadata": {},
   "outputs": [],
   "source": [
    "df = dd.from_pandas(pd.DataFrame({'A': [da.asarray(np.array([1,2,3])),\n",
    "                                        da.asarray(np.array([1,2,3])),\n",
    "                                        da.asarray(np.array([1,2,3]))], 'B':[4,5,6]}),npartitions=2)"
   ]
  },
  {
   "cell_type": "code",
   "execution_count": null,
   "id": "17f758f5-2dbc-414d-8049-8e9a0d8aba2a",
   "metadata": {},
   "outputs": [],
   "source": []
  },
  {
   "cell_type": "code",
   "execution_count": 294,
   "id": "7ce62e26-39bb-422d-890d-eee5af807f7d",
   "metadata": {},
   "outputs": [
    {
     "data": {
      "text/html": [
       "<div>\n",
       "<style scoped>\n",
       "    .dataframe tbody tr th:only-of-type {\n",
       "        vertical-align: middle;\n",
       "    }\n",
       "\n",
       "    .dataframe tbody tr th {\n",
       "        vertical-align: top;\n",
       "    }\n",
       "\n",
       "    .dataframe thead th {\n",
       "        text-align: right;\n",
       "    }\n",
       "</style>\n",
       "<table border=\"1\" class=\"dataframe\">\n",
       "  <thead>\n",
       "    <tr style=\"text-align: right;\">\n",
       "      <th></th>\n",
       "      <th>A</th>\n",
       "      <th>B</th>\n",
       "    </tr>\n",
       "  </thead>\n",
       "  <tbody>\n",
       "    <tr>\n",
       "      <th>0</th>\n",
       "      <td>dask.array&lt;array, shape=(3,), dtype=int32, chu...</td>\n",
       "      <td>4</td>\n",
       "    </tr>\n",
       "    <tr>\n",
       "      <th>1</th>\n",
       "      <td>dask.array&lt;array, shape=(3,), dtype=int32, chu...</td>\n",
       "      <td>5</td>\n",
       "    </tr>\n",
       "    <tr>\n",
       "      <th>2</th>\n",
       "      <td>dask.array&lt;array, shape=(3,), dtype=int32, chu...</td>\n",
       "      <td>6</td>\n",
       "    </tr>\n",
       "  </tbody>\n",
       "</table>\n",
       "</div>"
      ],
      "text/plain": [
       "                                                   A  B\n",
       "0  dask.array<array, shape=(3,), dtype=int32, chu...  4\n",
       "1  dask.array<array, shape=(3,), dtype=int32, chu...  5\n",
       "2  dask.array<array, shape=(3,), dtype=int32, chu...  6"
      ]
     },
     "execution_count": 294,
     "metadata": {},
     "output_type": "execute_result"
    }
   ],
   "source": [
    "df.compute()"
   ]
  },
  {
   "cell_type": "code",
   "execution_count": 295,
   "id": "ac5ba6c9-dd80-41df-95df-8c4283c4bbcc",
   "metadata": {},
   "outputs": [
    {
     "data": {
      "text/plain": [
       "A    string[pyarrow]\n",
       "B              int64\n",
       "dtype: object"
      ]
     },
     "execution_count": 295,
     "metadata": {},
     "output_type": "execute_result"
    }
   ],
   "source": [
    "df.dtypes"
   ]
  },
  {
   "cell_type": "code",
   "execution_count": 297,
   "id": "ce151b66-3802-458d-8488-a2c973b78a44",
   "metadata": {},
   "outputs": [
    {
     "data": {
      "text/plain": [
       "0    dask.array<array, shape=(3,), dtype=int32, chu...\n",
       "1    dask.array<array, shape=(3,), dtype=int32, chu...\n",
       "2    dask.array<array, shape=(3,), dtype=int32, chu...\n",
       "Name: A, dtype: string"
      ]
     },
     "execution_count": 297,
     "metadata": {},
     "output_type": "execute_result"
    }
   ],
   "source": [
    "df['A'].compute()"
   ]
  },
  {
   "cell_type": "code",
   "execution_count": 217,
   "id": "b5471261-c0c6-4afe-a99c-fd809b1b87f4",
   "metadata": {},
   "outputs": [],
   "source": [
    "#df['A'] + da.asarray(np.array([1,1,1]))"
   ]
  },
  {
   "cell_type": "code",
   "execution_count": 90,
   "id": "c144a3db-8423-4311-a2d8-0ca081d3ab65",
   "metadata": {},
   "outputs": [
    {
     "data": {
      "text/plain": [
       "array([[1., 1., 1.],\n",
       "       [1., 1., 1.],\n",
       "       [1., 1., 1.],\n",
       "       [1., 1., 1.]])"
      ]
     },
     "execution_count": 90,
     "metadata": {},
     "output_type": "execute_result"
    }
   ],
   "source": [
    "a = np.ones((4, 3))\n",
    "a"
   ]
  },
  {
   "cell_type": "code",
   "execution_count": 96,
   "id": "c5cfedd6-8071-4b39-99d4-549ecbad245b",
   "metadata": {},
   "outputs": [
    {
     "data": {
      "text/html": [
       "<table>\n",
       "    <tr>\n",
       "        <td>\n",
       "            <table style=\"border-collapse: collapse;\">\n",
       "                <thead>\n",
       "                    <tr>\n",
       "                        <td> </td>\n",
       "                        <th> Array </th>\n",
       "                        <th> Chunk </th>\n",
       "                    </tr>\n",
       "                </thead>\n",
       "                <tbody>\n",
       "                    \n",
       "                    <tr>\n",
       "                        <th> Bytes </th>\n",
       "                        <td> 96 B </td>\n",
       "                        <td> 96 B </td>\n",
       "                    </tr>\n",
       "                    \n",
       "                    <tr>\n",
       "                        <th> Shape </th>\n",
       "                        <td> (4, 3) </td>\n",
       "                        <td> (4, 3) </td>\n",
       "                    </tr>\n",
       "                    <tr>\n",
       "                        <th> Dask graph </th>\n",
       "                        <td colspan=\"2\"> 1 chunks in 1 graph layer </td>\n",
       "                    </tr>\n",
       "                    <tr>\n",
       "                        <th> Data type </th>\n",
       "                        <td colspan=\"2\"> float64 numpy.ndarray </td>\n",
       "                    </tr>\n",
       "                </tbody>\n",
       "            </table>\n",
       "        </td>\n",
       "        <td>\n",
       "        <svg width=\"140\" height=\"170\" style=\"stroke:rgb(0,0,0);stroke-width:1\" >\n",
       "\n",
       "  <!-- Horizontal lines -->\n",
       "  <line x1=\"0\" y1=\"0\" x2=\"90\" y2=\"0\" style=\"stroke-width:2\" />\n",
       "  <line x1=\"0\" y1=\"120\" x2=\"90\" y2=\"120\" style=\"stroke-width:2\" />\n",
       "\n",
       "  <!-- Vertical lines -->\n",
       "  <line x1=\"0\" y1=\"0\" x2=\"0\" y2=\"120\" style=\"stroke-width:2\" />\n",
       "  <line x1=\"90\" y1=\"0\" x2=\"90\" y2=\"120\" style=\"stroke-width:2\" />\n",
       "\n",
       "  <!-- Colored Rectangle -->\n",
       "  <polygon points=\"0.0,0.0 90.0,0.0 90.0,120.0 0.0,120.0\" style=\"fill:#ECB172A0;stroke-width:0\"/>\n",
       "\n",
       "  <!-- Text -->\n",
       "  <text x=\"45.000000\" y=\"140.000000\" font-size=\"1.0rem\" font-weight=\"100\" text-anchor=\"middle\" >3</text>\n",
       "  <text x=\"110.000000\" y=\"60.000000\" font-size=\"1.0rem\" font-weight=\"100\" text-anchor=\"middle\" transform=\"rotate(0,110.000000,60.000000)\">4</text>\n",
       "</svg>\n",
       "        </td>\n",
       "    </tr>\n",
       "</table>"
      ],
      "text/plain": [
       "dask.array<array, shape=(4, 3), dtype=float64, chunksize=(4, 3), chunktype=numpy.ndarray>"
      ]
     },
     "execution_count": 96,
     "metadata": {},
     "output_type": "execute_result"
    }
   ],
   "source": [
    "da.asarray(a)"
   ]
  },
  {
   "cell_type": "code",
   "execution_count": 94,
   "id": "c6b3cb36-eb33-435a-b23e-085de76d9f8e",
   "metadata": {},
   "outputs": [],
   "source": [
    "# npad is a tuple of (n_before, n_after) for each dimension\n",
    "npad = ((0, 0), (0, 1))"
   ]
  },
  {
   "cell_type": "code",
   "execution_count": 95,
   "id": "3f34328e-27b2-4374-bc9a-9a8465d316b5",
   "metadata": {},
   "outputs": [
    {
     "data": {
      "text/plain": [
       "array([[1., 1., 1., 0.],\n",
       "       [1., 1., 1., 0.],\n",
       "       [1., 1., 1., 0.],\n",
       "       [1., 1., 1., 0.]])"
      ]
     },
     "execution_count": 95,
     "metadata": {},
     "output_type": "execute_result"
    }
   ],
   "source": [
    "b = np.pad(a, pad_width=npad, mode='constant', constant_values=0)\n",
    "b"
   ]
  },
  {
   "cell_type": "code",
   "execution_count": 97,
   "id": "7c7c4d60-35fa-45ae-94fe-ea3f42d08dd2",
   "metadata": {},
   "outputs": [
    {
     "data": {
      "text/html": [
       "<table>\n",
       "    <tr>\n",
       "        <td>\n",
       "            <table style=\"border-collapse: collapse;\">\n",
       "                <thead>\n",
       "                    <tr>\n",
       "                        <td> </td>\n",
       "                        <th> Array </th>\n",
       "                        <th> Chunk </th>\n",
       "                    </tr>\n",
       "                </thead>\n",
       "                <tbody>\n",
       "                    \n",
       "                    <tr>\n",
       "                        <th> Bytes </th>\n",
       "                        <td> 128 B </td>\n",
       "                        <td> 128 B </td>\n",
       "                    </tr>\n",
       "                    \n",
       "                    <tr>\n",
       "                        <th> Shape </th>\n",
       "                        <td> (4, 4) </td>\n",
       "                        <td> (4, 4) </td>\n",
       "                    </tr>\n",
       "                    <tr>\n",
       "                        <th> Dask graph </th>\n",
       "                        <td colspan=\"2\"> 1 chunks in 1 graph layer </td>\n",
       "                    </tr>\n",
       "                    <tr>\n",
       "                        <th> Data type </th>\n",
       "                        <td colspan=\"2\"> float64 numpy.ndarray </td>\n",
       "                    </tr>\n",
       "                </tbody>\n",
       "            </table>\n",
       "        </td>\n",
       "        <td>\n",
       "        <svg width=\"170\" height=\"170\" style=\"stroke:rgb(0,0,0);stroke-width:1\" >\n",
       "\n",
       "  <!-- Horizontal lines -->\n",
       "  <line x1=\"0\" y1=\"0\" x2=\"120\" y2=\"0\" style=\"stroke-width:2\" />\n",
       "  <line x1=\"0\" y1=\"120\" x2=\"120\" y2=\"120\" style=\"stroke-width:2\" />\n",
       "\n",
       "  <!-- Vertical lines -->\n",
       "  <line x1=\"0\" y1=\"0\" x2=\"0\" y2=\"120\" style=\"stroke-width:2\" />\n",
       "  <line x1=\"120\" y1=\"0\" x2=\"120\" y2=\"120\" style=\"stroke-width:2\" />\n",
       "\n",
       "  <!-- Colored Rectangle -->\n",
       "  <polygon points=\"0.0,0.0 120.0,0.0 120.0,120.0 0.0,120.0\" style=\"fill:#ECB172A0;stroke-width:0\"/>\n",
       "\n",
       "  <!-- Text -->\n",
       "  <text x=\"60.000000\" y=\"140.000000\" font-size=\"1.0rem\" font-weight=\"100\" text-anchor=\"middle\" >4</text>\n",
       "  <text x=\"140.000000\" y=\"60.000000\" font-size=\"1.0rem\" font-weight=\"100\" text-anchor=\"middle\" transform=\"rotate(0,140.000000,60.000000)\">4</text>\n",
       "</svg>\n",
       "        </td>\n",
       "    </tr>\n",
       "</table>"
      ],
      "text/plain": [
       "dask.array<array, shape=(4, 4), dtype=float64, chunksize=(4, 4), chunktype=numpy.ndarray>"
      ]
     },
     "execution_count": 97,
     "metadata": {},
     "output_type": "execute_result"
    }
   ],
   "source": [
    "da.asarray(b)"
   ]
  },
  {
   "cell_type": "code",
   "execution_count": 107,
   "id": "8125798c-c736-4bbb-908c-777e86261773",
   "metadata": {},
   "outputs": [
    {
     "data": {
      "text/plain": [
       "array([[1., 1., 1.],\n",
       "       [1., 1., 1.],\n",
       "       [1., 1., 1.],\n",
       "       [1., 1., 1.]])"
      ]
     },
     "execution_count": 107,
     "metadata": {},
     "output_type": "execute_result"
    }
   ],
   "source": [
    "b[:,:3]"
   ]
  },
  {
   "cell_type": "code",
   "execution_count": 143,
   "id": "698fd2d3-3645-4749-bfd4-9985cd10fecf",
   "metadata": {},
   "outputs": [],
   "source": [
    "names = ['Bob','Alice','Foo','Baz']\n",
    "numbers = [1,2,3,4]\n",
    "mapped = zip(names,numbers)"
   ]
  },
  {
   "cell_type": "code",
   "execution_count": 146,
   "id": "475fa69f-7994-4948-ad1e-210f370b486f",
   "metadata": {},
   "outputs": [
    {
     "name": "stdout",
     "output_type": "stream",
     "text": [
      "Name:  Bob\n",
      "Number:  1\n",
      "Name:  Alice\n",
      "Number:  2\n",
      "Name:  Foo\n",
      "Number:  3\n",
      "Name:  Baz\n",
      "Number:  4\n"
     ]
    }
   ],
   "source": [
    "for name,num in zip(names,numbers):\n",
    "    print(\"Name: \",name)\n",
    "    print(\"Number: \",num)"
   ]
  },
  {
   "cell_type": "code",
   "execution_count": 148,
   "id": "1c696532-bc44-4561-a6b5-02fd4945ad8c",
   "metadata": {},
   "outputs": [
    {
     "data": {
      "text/plain": [
       "['The name is Bob and the number is 1',\n",
       " 'The name is Alice and the number is 2',\n",
       " 'The name is Foo and the number is 3',\n",
       " 'The name is Baz and the number is 4']"
      ]
     },
     "execution_count": 148,
     "metadata": {},
     "output_type": "execute_result"
    }
   ],
   "source": [
    "[\"The name is {} and the number is {}\".format(name,num) for name,num in zip(names,numbers)]"
   ]
  },
  {
   "cell_type": "code",
   "execution_count": null,
   "id": "7ef27513-104a-4c12-bddf-efe9c14796b3",
   "metadata": {},
   "outputs": [],
   "source": []
  }
 ],
 "metadata": {
  "kernelspec": {
   "display_name": ".venv",
   "language": "python",
   "name": ".venv"
  },
  "language_info": {
   "codemirror_mode": {
    "name": "ipython",
    "version": 3
   },
   "file_extension": ".py",
   "mimetype": "text/x-python",
   "name": "python",
   "nbconvert_exporter": "python",
   "pygments_lexer": "ipython3",
   "version": "3.11.4"
  }
 },
 "nbformat": 4,
 "nbformat_minor": 5
}
